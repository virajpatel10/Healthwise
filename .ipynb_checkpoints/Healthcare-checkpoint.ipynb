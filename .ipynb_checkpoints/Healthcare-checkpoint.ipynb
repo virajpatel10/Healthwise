{
  "cells": [
    {
      "cell_type": "markdown",
      "metadata": {
        "id": "WvzTqns2F8h-"
      },
      "source": [
        "https://kormilitzin.medium.com/med7-clinical-information-extraction-system-in-python-and-spacy-5e6f68ab1c68"
      ]
    },
    {
      "cell_type": "markdown",
      "source": [
        "# **INSTALLING LLIBRARIES AND DEPENDENCIES** "
      ],
      "metadata": {
        "id": "S3c6x6Bn1r7G"
      }
    },
    {
      "cell_type": "code",
      "execution_count": null,
      "metadata": {
        "colab": {
          "background_save": true,
          "base_uri": "https://localhost:8080/"
        },
        "id": "T2Pwy5YwnN3J",
        "outputId": "70ca8b40-3967-4782-c66f-d8e39a10e1a9"
      },
      "outputs": [
        {
          "name": "stdout",
          "output_type": "stream",
          "text": [
            "Reading package lists... Done\n",
            "Building dependency tree       \n",
            "Reading state information... Done\n",
            "The following package was automatically installed and is no longer required:\n",
            "  libnvidia-common-470\n",
            "Use 'sudo apt autoremove' to remove it.\n",
            "The following additional packages will be installed:\n",
            "  tesseract-ocr-eng tesseract-ocr-osd\n",
            "The following NEW packages will be installed:\n",
            "  tesseract-ocr tesseract-ocr-eng tesseract-ocr-osd\n",
            "0 upgraded, 3 newly installed, 0 to remove and 39 not upgraded.\n",
            "Need to get 4,795 kB of archives.\n",
            "After this operation, 15.8 MB of additional disk space will be used.\n",
            "Get:1 http://archive.ubuntu.com/ubuntu bionic/universe amd64 tesseract-ocr-eng all 4.00~git24-0e00fe6-1.2 [1,588 kB]\n",
            "Get:2 http://archive.ubuntu.com/ubuntu bionic/universe amd64 tesseract-ocr-osd all 4.00~git24-0e00fe6-1.2 [2,989 kB]\n",
            "Get:3 http://archive.ubuntu.com/ubuntu bionic/universe amd64 tesseract-ocr amd64 4.00~git2288-10f4998a-2 [218 kB]\n",
            "Fetched 4,795 kB in 1s (3,777 kB/s)\n",
            "debconf: unable to initialize frontend: Dialog\n",
            "debconf: (No usable dialog-like program is installed, so the dialog based frontend cannot be used. at /usr/share/perl5/Debconf/FrontEnd/Dialog.pm line 76, <> line 3.)\n",
            "debconf: falling back to frontend: Readline\n",
            "debconf: unable to initialize frontend: Readline\n",
            "debconf: (This frontend requires a controlling tty.)\n",
            "debconf: falling back to frontend: Teletype\n",
            "dpkg-preconfigure: unable to re-open stdin: \n",
            "Selecting previously unselected package tesseract-ocr-eng.\n",
            "(Reading database ... 155320 files and directories currently installed.)\n",
            "Preparing to unpack .../tesseract-ocr-eng_4.00~git24-0e00fe6-1.2_all.deb ...\n",
            "Unpacking tesseract-ocr-eng (4.00~git24-0e00fe6-1.2) ...\n",
            "Selecting previously unselected package tesseract-ocr-osd.\n",
            "Preparing to unpack .../tesseract-ocr-osd_4.00~git24-0e00fe6-1.2_all.deb ...\n",
            "Unpacking tesseract-ocr-osd (4.00~git24-0e00fe6-1.2) ...\n",
            "Selecting previously unselected package tesseract-ocr.\n",
            "Preparing to unpack .../tesseract-ocr_4.00~git2288-10f4998a-2_amd64.deb ...\n",
            "Unpacking tesseract-ocr (4.00~git2288-10f4998a-2) ...\n",
            "Setting up tesseract-ocr-osd (4.00~git24-0e00fe6-1.2) ...\n",
            "Setting up tesseract-ocr-eng (4.00~git24-0e00fe6-1.2) ...\n",
            "Setting up tesseract-ocr (4.00~git2288-10f4998a-2) ...\n",
            "Processing triggers for man-db (2.8.3-2ubuntu0.1) ...\n",
            "Collecting Image\n",
            "  Downloading image-1.5.33.tar.gz (15 kB)\n",
            "Requirement already satisfied: pillow in /usr/local/lib/python3.7/dist-packages (from Image) (7.1.2)\n",
            "Collecting django\n",
            "  Downloading Django-3.2.12-py3-none-any.whl (7.9 MB)\n",
            "\u001b[K     |████████████████████████████████| 7.9 MB 5.3 MB/s \n",
            "\u001b[?25hRequirement already satisfied: six in /usr/local/lib/python3.7/dist-packages (from Image) (1.15.0)\n",
            "Requirement already satisfied: pytz in /usr/local/lib/python3.7/dist-packages (from django->Image) (2018.9)\n",
            "Collecting asgiref<4,>=3.3.2\n",
            "  Downloading asgiref-3.5.0-py3-none-any.whl (22 kB)\n",
            "Requirement already satisfied: sqlparse>=0.2.2 in /usr/local/lib/python3.7/dist-packages (from django->Image) (0.4.2)\n",
            "Requirement already satisfied: typing-extensions in /usr/local/lib/python3.7/dist-packages (from asgiref<4,>=3.3.2->django->Image) (3.10.0.2)\n",
            "Building wheels for collected packages: Image\n",
            "  Building wheel for Image (setup.py) ... \u001b[?25l\u001b[?25hdone\n",
            "  Created wheel for Image: filename=image-1.5.33-py2.py3-none-any.whl size=19496 sha256=69061ceca64d8540dcc3d32c225ec6003d58b7b4c9e93102c91c32f4b401ad11\n",
            "  Stored in directory: /root/.cache/pip/wheels/56/88/e6/897194cfe8c08a8b9afd881d3bf53d102e13fa39607d721383\n",
            "Successfully built Image\n",
            "Installing collected packages: asgiref, django, Image\n",
            "Successfully installed Image-1.5.33 asgiref-3.5.0 django-3.2.12\n",
            "Collecting camelot-py\n",
            "  Downloading camelot_py-0.10.1-py3-none-any.whl (40 kB)\n",
            "\u001b[K     |████████████████████████████████| 40 kB 22 kB/s \n",
            "\u001b[?25hRequirement already satisfied: openpyxl>=2.5.8 in /usr/local/lib/python3.7/dist-packages (from camelot-py) (3.0.9)\n",
            "Requirement already satisfied: click>=6.7 in /usr/local/lib/python3.7/dist-packages (from camelot-py) (7.1.2)\n",
            "Requirement already satisfied: tabulate>=0.8.9 in /usr/local/lib/python3.7/dist-packages (from camelot-py) (0.8.9)\n",
            "Requirement already satisfied: chardet>=3.0.4 in /usr/local/lib/python3.7/dist-packages (from camelot-py) (3.0.4)\n",
            "Collecting PyPDF2>=1.26.0\n",
            "  Downloading PyPDF2-1.26.0.tar.gz (77 kB)\n",
            "\u001b[K     |████████████████████████████████| 77 kB 3.3 MB/s \n",
            "\u001b[?25hRequirement already satisfied: pandas>=0.23.4 in /usr/local/lib/python3.7/dist-packages (from camelot-py) (1.3.5)\n",
            "Requirement already satisfied: numpy>=1.13.3 in /usr/local/lib/python3.7/dist-packages (from camelot-py) (1.21.5)\n",
            "Collecting pdfminer.six>=20200726\n",
            "  Downloading pdfminer.six-20211012-py3-none-any.whl (5.6 MB)\n",
            "\u001b[K     |████████████████████████████████| 5.6 MB 7.9 MB/s \n",
            "\u001b[?25hRequirement already satisfied: et-xmlfile in /usr/local/lib/python3.7/dist-packages (from openpyxl>=2.5.8->camelot-py) (1.1.0)\n",
            "Requirement already satisfied: python-dateutil>=2.7.3 in /usr/local/lib/python3.7/dist-packages (from pandas>=0.23.4->camelot-py) (2.8.2)\n",
            "Requirement already satisfied: pytz>=2017.3 in /usr/local/lib/python3.7/dist-packages (from pandas>=0.23.4->camelot-py) (2018.9)\n",
            "Collecting cryptography\n",
            "  Downloading cryptography-36.0.1-cp36-abi3-manylinux_2_24_x86_64.whl (3.6 MB)\n",
            "\u001b[K     |████████████████████████████████| 3.6 MB 34.3 MB/s \n",
            "\u001b[?25hRequirement already satisfied: six>=1.5 in /usr/local/lib/python3.7/dist-packages (from python-dateutil>=2.7.3->pandas>=0.23.4->camelot-py) (1.15.0)\n",
            "Requirement already satisfied: cffi>=1.12 in /usr/local/lib/python3.7/dist-packages (from cryptography->pdfminer.six>=20200726->camelot-py) (1.15.0)\n",
            "Requirement already satisfied: pycparser in /usr/local/lib/python3.7/dist-packages (from cffi>=1.12->cryptography->pdfminer.six>=20200726->camelot-py) (2.21)\n",
            "Building wheels for collected packages: PyPDF2\n",
            "  Building wheel for PyPDF2 (setup.py) ... \u001b[?25l\u001b[?25hdone\n",
            "  Created wheel for PyPDF2: filename=PyPDF2-1.26.0-py3-none-any.whl size=61102 sha256=5dbae14b319c3eeb4cd785911c304d56658272433f2ba240ebb81dd2bf64d5ab\n",
            "  Stored in directory: /root/.cache/pip/wheels/80/1a/24/648467ade3a77ed20f35cfd2badd32134e96dd25ca811e64b3\n",
            "Successfully built PyPDF2\n",
            "Installing collected packages: cryptography, PyPDF2, pdfminer.six, camelot-py\n",
            "Successfully installed PyPDF2-1.26.0 camelot-py-0.10.1 cryptography-36.0.1 pdfminer.six-20211012\n",
            "Requirement already satisfied: camelot-py[cv] in /usr/local/lib/python3.7/dist-packages (0.10.1)\n",
            "Requirement already satisfied: click>=6.7 in /usr/local/lib/python3.7/dist-packages (from camelot-py[cv]) (7.1.2)\n",
            "Requirement already satisfied: numpy>=1.13.3 in /usr/local/lib/python3.7/dist-packages (from camelot-py[cv]) (1.21.5)\n",
            "Requirement already satisfied: pdfminer.six>=20200726 in /usr/local/lib/python3.7/dist-packages (from camelot-py[cv]) (20211012)\n",
            "Requirement already satisfied: openpyxl>=2.5.8 in /usr/local/lib/python3.7/dist-packages (from camelot-py[cv]) (3.0.9)\n",
            "Requirement already satisfied: chardet>=3.0.4 in /usr/local/lib/python3.7/dist-packages (from camelot-py[cv]) (3.0.4)\n",
            "Requirement already satisfied: pandas>=0.23.4 in /usr/local/lib/python3.7/dist-packages (from camelot-py[cv]) (1.3.5)\n",
            "Requirement already satisfied: tabulate>=0.8.9 in /usr/local/lib/python3.7/dist-packages (from camelot-py[cv]) (0.8.9)\n",
            "Requirement already satisfied: PyPDF2>=1.26.0 in /usr/local/lib/python3.7/dist-packages (from camelot-py[cv]) (1.26.0)\n",
            "Collecting ghostscript>=0.7\n",
            "  Downloading ghostscript-0.7-py2.py3-none-any.whl (25 kB)\n",
            "Collecting pdftopng>=0.2.3\n",
            "  Downloading pdftopng-0.2.3-cp37-cp37m-manylinux2010_x86_64.whl (11.7 MB)\n",
            "\u001b[K     |████████████████████████████████| 11.7 MB 6.4 MB/s \n",
            "\u001b[?25hRequirement already satisfied: opencv-python>=3.4.2.17 in /usr/local/lib/python3.7/dist-packages (from camelot-py[cv]) (4.1.2.30)\n",
            "Requirement already satisfied: setuptools>=38.6.0 in /usr/local/lib/python3.7/dist-packages (from ghostscript>=0.7->camelot-py[cv]) (57.4.0)\n",
            "Requirement already satisfied: et-xmlfile in /usr/local/lib/python3.7/dist-packages (from openpyxl>=2.5.8->camelot-py[cv]) (1.1.0)\n",
            "Requirement already satisfied: pytz>=2017.3 in /usr/local/lib/python3.7/dist-packages (from pandas>=0.23.4->camelot-py[cv]) (2018.9)\n",
            "Requirement already satisfied: python-dateutil>=2.7.3 in /usr/local/lib/python3.7/dist-packages (from pandas>=0.23.4->camelot-py[cv]) (2.8.2)\n",
            "Requirement already satisfied: cryptography in /usr/local/lib/python3.7/dist-packages (from pdfminer.six>=20200726->camelot-py[cv]) (36.0.1)\n",
            "Requirement already satisfied: six>=1.5 in /usr/local/lib/python3.7/dist-packages (from python-dateutil>=2.7.3->pandas>=0.23.4->camelot-py[cv]) (1.15.0)\n",
            "Requirement already satisfied: cffi>=1.12 in /usr/local/lib/python3.7/dist-packages (from cryptography->pdfminer.six>=20200726->camelot-py[cv]) (1.15.0)\n",
            "Requirement already satisfied: pycparser in /usr/local/lib/python3.7/dist-packages (from cffi>=1.12->cryptography->pdfminer.six>=20200726->camelot-py[cv]) (2.21)\n",
            "Installing collected packages: pdftopng, ghostscript\n",
            "Successfully installed ghostscript-0.7 pdftopng-0.2.3\n",
            "Requirement already satisfied: camelot-py[all] in /usr/local/lib/python3.7/dist-packages (0.10.1)\n",
            "Requirement already satisfied: openpyxl>=2.5.8 in /usr/local/lib/python3.7/dist-packages (from camelot-py[all]) (3.0.9)\n",
            "Requirement already satisfied: PyPDF2>=1.26.0 in /usr/local/lib/python3.7/dist-packages (from camelot-py[all]) (1.26.0)\n",
            "Requirement already satisfied: pdfminer.six>=20200726 in /usr/local/lib/python3.7/dist-packages (from camelot-py[all]) (20211012)\n",
            "Requirement already satisfied: numpy>=1.13.3 in /usr/local/lib/python3.7/dist-packages (from camelot-py[all]) (1.21.5)\n",
            "Requirement already satisfied: pandas>=0.23.4 in /usr/local/lib/python3.7/dist-packages (from camelot-py[all]) (1.3.5)\n",
            "Requirement already satisfied: tabulate>=0.8.9 in /usr/local/lib/python3.7/dist-packages (from camelot-py[all]) (0.8.9)\n",
            "Requirement already satisfied: chardet>=3.0.4 in /usr/local/lib/python3.7/dist-packages (from camelot-py[all]) (3.0.4)\n",
            "Requirement already satisfied: click>=6.7 in /usr/local/lib/python3.7/dist-packages (from camelot-py[all]) (7.1.2)\n",
            "Requirement already satisfied: ghostscript>=0.7 in /usr/local/lib/python3.7/dist-packages (from camelot-py[all]) (0.7)\n",
            "Requirement already satisfied: opencv-python>=3.4.2.17 in /usr/local/lib/python3.7/dist-packages (from camelot-py[all]) (4.1.2.30)\n",
            "Requirement already satisfied: pdftopng>=0.2.3 in /usr/local/lib/python3.7/dist-packages (from camelot-py[all]) (0.2.3)\n",
            "Requirement already satisfied: matplotlib>=2.2.3 in /usr/local/lib/python3.7/dist-packages (from camelot-py[all]) (3.2.2)\n",
            "Requirement already satisfied: setuptools>=38.6.0 in /usr/local/lib/python3.7/dist-packages (from ghostscript>=0.7->camelot-py[all]) (57.4.0)\n",
            "Requirement already satisfied: kiwisolver>=1.0.1 in /usr/local/lib/python3.7/dist-packages (from matplotlib>=2.2.3->camelot-py[all]) (1.3.2)\n",
            "Requirement already satisfied: cycler>=0.10 in /usr/local/lib/python3.7/dist-packages (from matplotlib>=2.2.3->camelot-py[all]) (0.11.0)\n",
            "Requirement already satisfied: python-dateutil>=2.1 in /usr/local/lib/python3.7/dist-packages (from matplotlib>=2.2.3->camelot-py[all]) (2.8.2)\n",
            "Requirement already satisfied: pyparsing!=2.0.4,!=2.1.2,!=2.1.6,>=2.0.1 in /usr/local/lib/python3.7/dist-packages (from matplotlib>=2.2.3->camelot-py[all]) (3.0.7)\n",
            "Requirement already satisfied: et-xmlfile in /usr/local/lib/python3.7/dist-packages (from openpyxl>=2.5.8->camelot-py[all]) (1.1.0)\n",
            "Requirement already satisfied: pytz>=2017.3 in /usr/local/lib/python3.7/dist-packages (from pandas>=0.23.4->camelot-py[all]) (2018.9)\n",
            "Requirement already satisfied: cryptography in /usr/local/lib/python3.7/dist-packages (from pdfminer.six>=20200726->camelot-py[all]) (36.0.1)\n",
            "Requirement already satisfied: six>=1.5 in /usr/local/lib/python3.7/dist-packages (from python-dateutil>=2.1->matplotlib>=2.2.3->camelot-py[all]) (1.15.0)\n",
            "Requirement already satisfied: cffi>=1.12 in /usr/local/lib/python3.7/dist-packages (from cryptography->pdfminer.six>=20200726->camelot-py[all]) (1.15.0)\n",
            "Requirement already satisfied: pycparser in /usr/local/lib/python3.7/dist-packages (from cffi>=1.12->cryptography->pdfminer.six>=20200726->camelot-py[all]) (2.21)\n",
            "Collecting pytesseract\n",
            "  Downloading pytesseract-0.3.9-py2.py3-none-any.whl (14 kB)\n",
            "Collecting Pillow>=8.0.0\n",
            "  Downloading Pillow-9.0.1-cp37-cp37m-manylinux_2_17_x86_64.manylinux2014_x86_64.whl (4.3 MB)\n",
            "\u001b[K     |████████████████████████████████| 4.3 MB 5.3 MB/s \n",
            "\u001b[?25hRequirement already satisfied: packaging>=21.3 in /usr/local/lib/python3.7/dist-packages (from pytesseract) (21.3)\n",
            "Requirement already satisfied: pyparsing!=3.0.5,>=2.0.2 in /usr/local/lib/python3.7/dist-packages (from packaging>=21.3->pytesseract) (3.0.7)\n",
            "Installing collected packages: Pillow, pytesseract\n",
            "  Attempting uninstall: Pillow\n",
            "    Found existing installation: Pillow 7.1.2\n",
            "    Uninstalling Pillow-7.1.2:\n",
            "      Successfully uninstalled Pillow-7.1.2\n",
            "\u001b[31mERROR: pip's dependency resolver does not currently take into account all the packages that are installed. This behaviour is the source of the following dependency conflicts.\n",
            "albumentations 0.1.12 requires imgaug<0.2.7,>=0.2.5, but you have imgaug 0.2.9 which is incompatible.\u001b[0m\n",
            "Successfully installed Pillow-9.0.1 pytesseract-0.3.9\n"
          ]
        },
        {
          "data": {
            "application/vnd.colab-display-data+json": {
              "pip_warning": {
                "packages": [
                  "PIL"
                ]
              }
            }
          },
          "metadata": {},
          "output_type": "display_data"
        },
        {
          "name": "stdout",
          "output_type": "stream",
          "text": [
            "Requirement already satisfied: nltk in /usr/local/lib/python3.7/dist-packages (3.2.5)\n",
            "Requirement already satisfied: six in /usr/local/lib/python3.7/dist-packages (from nltk) (1.15.0)\n",
            "Collecting stopWords\n",
            "  Downloading stopwords-1.0.0-py2.py3-none-any.whl (37 kB)\n",
            "Installing collected packages: stopWords\n",
            "Successfully installed stopWords-1.0.0\n",
            "Requirement already satisfied: pandas in /usr/local/lib/python3.7/dist-packages (1.3.5)\n",
            "Requirement already satisfied: python-dateutil>=2.7.3 in /usr/local/lib/python3.7/dist-packages (from pandas) (2.8.2)\n",
            "Requirement already satisfied: numpy>=1.17.3 in /usr/local/lib/python3.7/dist-packages (from pandas) (1.21.5)\n",
            "Requirement already satisfied: pytz>=2017.3 in /usr/local/lib/python3.7/dist-packages (from pandas) (2018.9)\n",
            "Requirement already satisfied: six>=1.5 in /usr/local/lib/python3.7/dist-packages (from python-dateutil>=2.7.3->pandas) (1.15.0)\n",
            "Collecting spacy==2.3.5\n",
            "  Downloading spacy-2.3.5-cp37-cp37m-manylinux2014_x86_64.whl (10.4 MB)\n",
            "\u001b[K     |████████████████████████████████| 10.4 MB 4.6 MB/s \n",
            "\u001b[?25hRequirement already satisfied: wasabi<1.1.0,>=0.4.0 in /usr/local/lib/python3.7/dist-packages (from spacy==2.3.5) (0.9.0)\n",
            "Requirement already satisfied: tqdm<5.0.0,>=4.38.0 in /usr/local/lib/python3.7/dist-packages (from spacy==2.3.5) (4.63.0)\n",
            "Requirement already satisfied: preshed<3.1.0,>=3.0.2 in /usr/local/lib/python3.7/dist-packages (from spacy==2.3.5) (3.0.6)\n",
            "Collecting thinc<7.5.0,>=7.4.1\n",
            "  Downloading thinc-7.4.5-cp37-cp37m-manylinux2014_x86_64.whl (1.0 MB)\n",
            "\u001b[K     |████████████████████████████████| 1.0 MB 42.8 MB/s \n",
            "\u001b[?25hRequirement already satisfied: setuptools in /usr/local/lib/python3.7/dist-packages (from spacy==2.3.5) (57.4.0)\n",
            "Requirement already satisfied: srsly<1.1.0,>=1.0.2 in /usr/local/lib/python3.7/dist-packages (from spacy==2.3.5) (1.0.5)\n",
            "Requirement already satisfied: cymem<2.1.0,>=2.0.2 in /usr/local/lib/python3.7/dist-packages (from spacy==2.3.5) (2.0.6)\n",
            "Requirement already satisfied: blis<0.8.0,>=0.4.0 in /usr/local/lib/python3.7/dist-packages (from spacy==2.3.5) (0.4.1)\n",
            "Requirement already satisfied: requests<3.0.0,>=2.13.0 in /usr/local/lib/python3.7/dist-packages (from spacy==2.3.5) (2.23.0)\n",
            "Requirement already satisfied: plac<1.2.0,>=0.9.6 in /usr/local/lib/python3.7/dist-packages (from spacy==2.3.5) (1.1.3)\n",
            "Requirement already satisfied: numpy>=1.15.0 in /usr/local/lib/python3.7/dist-packages (from spacy==2.3.5) (1.21.5)\n",
            "Requirement already satisfied: murmurhash<1.1.0,>=0.28.0 in /usr/local/lib/python3.7/dist-packages (from spacy==2.3.5) (1.0.6)\n",
            "Requirement already satisfied: catalogue<1.1.0,>=0.0.7 in /usr/local/lib/python3.7/dist-packages (from spacy==2.3.5) (1.0.0)\n",
            "Requirement already satisfied: importlib-metadata>=0.20 in /usr/local/lib/python3.7/dist-packages (from catalogue<1.1.0,>=0.0.7->spacy==2.3.5) (4.11.2)\n",
            "Requirement already satisfied: zipp>=0.5 in /usr/local/lib/python3.7/dist-packages (from importlib-metadata>=0.20->catalogue<1.1.0,>=0.0.7->spacy==2.3.5) (3.7.0)\n",
            "Requirement already satisfied: typing-extensions>=3.6.4 in /usr/local/lib/python3.7/dist-packages (from importlib-metadata>=0.20->catalogue<1.1.0,>=0.0.7->spacy==2.3.5) (3.10.0.2)\n",
            "Requirement already satisfied: idna<3,>=2.5 in /usr/local/lib/python3.7/dist-packages (from requests<3.0.0,>=2.13.0->spacy==2.3.5) (2.10)\n",
            "Requirement already satisfied: certifi>=2017.4.17 in /usr/local/lib/python3.7/dist-packages (from requests<3.0.0,>=2.13.0->spacy==2.3.5) (2021.10.8)\n",
            "Requirement already satisfied: urllib3!=1.25.0,!=1.25.1,<1.26,>=1.21.1 in /usr/local/lib/python3.7/dist-packages (from requests<3.0.0,>=2.13.0->spacy==2.3.5) (1.24.3)\n",
            "Requirement already satisfied: chardet<4,>=3.0.2 in /usr/local/lib/python3.7/dist-packages (from requests<3.0.0,>=2.13.0->spacy==2.3.5) (3.0.4)\n",
            "Installing collected packages: thinc, spacy\n",
            "  Attempting uninstall: thinc\n",
            "    Found existing installation: thinc 7.4.0\n",
            "    Uninstalling thinc-7.4.0:\n",
            "      Successfully uninstalled thinc-7.4.0\n",
            "  Attempting uninstall: spacy\n",
            "    Found existing installation: spacy 2.2.4\n",
            "    Uninstalling spacy-2.2.4:\n",
            "      Successfully uninstalled spacy-2.2.4\n",
            "Successfully installed spacy-2.3.5 thinc-7.4.5\n",
            "Collecting en-core-med7-lg==any\n",
            "  Downloading https://huggingface.co/kormilitzin/en_core_med7_lg/resolve/main/en_core_med7_lg-any-py3-none-any.whl (790.7 MB)\n",
            "\u001b[K     |████████████████████████████████| 790.7 MB 4.2 kB/s \n",
            "\u001b[?25hCollecting spacy<3.2.0,>=3.1.4\n",
            "  Downloading spacy-3.1.5-cp37-cp37m-manylinux_2_17_x86_64.manylinux2014_x86_64.whl (5.9 MB)\n",
            "\u001b[K     |████████████████████████████████| 5.9 MB 4.9 MB/s \n",
            "\u001b[?25hRequirement already satisfied: numpy>=1.15.0 in /usr/local/lib/python3.7/dist-packages (from spacy<3.2.0,>=3.1.4->en-core-med7-lg==any) (1.21.5)\n",
            "Collecting thinc<8.1.0,>=8.0.12\n",
            "  Downloading thinc-8.0.13-cp37-cp37m-manylinux_2_17_x86_64.manylinux2014_x86_64.whl (628 kB)\n",
            "\u001b[K     |████████████████████████████████| 628 kB 40.4 MB/s \n",
            "\u001b[?25hCollecting pathy>=0.3.5\n",
            "  Downloading pathy-0.6.1-py3-none-any.whl (42 kB)\n",
            "\u001b[K     |████████████████████████████████| 42 kB 1.2 MB/s \n",
            "\u001b[?25hCollecting spacy-legacy<3.1.0,>=3.0.8\n",
            "  Downloading spacy_legacy-3.0.9-py2.py3-none-any.whl (20 kB)\n",
            "Requirement already satisfied: wasabi<1.1.0,>=0.8.1 in /usr/local/lib/python3.7/dist-packages (from spacy<3.2.0,>=3.1.4->en-core-med7-lg==any) (0.9.0)\n",
            "Requirement already satisfied: typing-extensions<4.0.0.0,>=3.7.4 in /usr/local/lib/python3.7/dist-packages (from spacy<3.2.0,>=3.1.4->en-core-med7-lg==any) (3.10.0.2)\n",
            "Requirement already satisfied: blis<0.8.0,>=0.4.0 in /usr/local/lib/python3.7/dist-packages (from spacy<3.2.0,>=3.1.4->en-core-med7-lg==any) (0.4.1)\n",
            "Collecting catalogue<2.1.0,>=2.0.6\n",
            "  Downloading catalogue-2.0.6-py3-none-any.whl (17 kB)\n",
            "Requirement already satisfied: preshed<3.1.0,>=3.0.2 in /usr/local/lib/python3.7/dist-packages (from spacy<3.2.0,>=3.1.4->en-core-med7-lg==any) (3.0.6)\n",
            "Requirement already satisfied: requests<3.0.0,>=2.13.0 in /usr/local/lib/python3.7/dist-packages (from spacy<3.2.0,>=3.1.4->en-core-med7-lg==any) (2.23.0)\n",
            "Requirement already satisfied: cymem<2.1.0,>=2.0.2 in /usr/local/lib/python3.7/dist-packages (from spacy<3.2.0,>=3.1.4->en-core-med7-lg==any) (2.0.6)\n",
            "Collecting pydantic!=1.8,!=1.8.1,<1.9.0,>=1.7.4\n",
            "  Downloading pydantic-1.8.2-cp37-cp37m-manylinux2014_x86_64.whl (10.1 MB)\n",
            "\u001b[K     |████████████████████████████████| 10.1 MB 32.4 MB/s \n",
            "\u001b[?25hRequirement already satisfied: setuptools in /usr/local/lib/python3.7/dist-packages (from spacy<3.2.0,>=3.1.4->en-core-med7-lg==any) (57.4.0)\n",
            "Collecting srsly<3.0.0,>=2.4.1\n",
            "  Downloading srsly-2.4.2-cp37-cp37m-manylinux_2_17_x86_64.manylinux2014_x86_64.whl (451 kB)\n",
            "\u001b[K     |████████████████████████████████| 451 kB 49.4 MB/s \n",
            "\u001b[?25hCollecting typer<0.5.0,>=0.3.0\n",
            "  Downloading typer-0.4.0-py3-none-any.whl (27 kB)\n",
            "Requirement already satisfied: murmurhash<1.1.0,>=0.28.0 in /usr/local/lib/python3.7/dist-packages (from spacy<3.2.0,>=3.1.4->en-core-med7-lg==any) (1.0.6)\n",
            "Requirement already satisfied: tqdm<5.0.0,>=4.38.0 in /usr/local/lib/python3.7/dist-packages (from spacy<3.2.0,>=3.1.4->en-core-med7-lg==any) (4.63.0)\n",
            "Requirement already satisfied: jinja2 in /usr/local/lib/python3.7/dist-packages (from spacy<3.2.0,>=3.1.4->en-core-med7-lg==any) (2.11.3)\n",
            "Requirement already satisfied: packaging>=20.0 in /usr/local/lib/python3.7/dist-packages (from spacy<3.2.0,>=3.1.4->en-core-med7-lg==any) (21.3)\n",
            "Requirement already satisfied: zipp>=0.5 in /usr/local/lib/python3.7/dist-packages (from catalogue<2.1.0,>=2.0.6->spacy<3.2.0,>=3.1.4->en-core-med7-lg==any) (3.7.0)\n",
            "Requirement already satisfied: pyparsing!=3.0.5,>=2.0.2 in /usr/local/lib/python3.7/dist-packages (from packaging>=20.0->spacy<3.2.0,>=3.1.4->en-core-med7-lg==any) (3.0.7)\n",
            "Requirement already satisfied: smart-open<6.0.0,>=5.0.0 in /usr/local/lib/python3.7/dist-packages (from pathy>=0.3.5->spacy<3.2.0,>=3.1.4->en-core-med7-lg==any) (5.2.1)\n",
            "Requirement already satisfied: idna<3,>=2.5 in /usr/local/lib/python3.7/dist-packages (from requests<3.0.0,>=2.13.0->spacy<3.2.0,>=3.1.4->en-core-med7-lg==any) (2.10)\n",
            "Requirement already satisfied: certifi>=2017.4.17 in /usr/local/lib/python3.7/dist-packages (from requests<3.0.0,>=2.13.0->spacy<3.2.0,>=3.1.4->en-core-med7-lg==any) (2021.10.8)\n",
            "Requirement already satisfied: urllib3!=1.25.0,!=1.25.1,<1.26,>=1.21.1 in /usr/local/lib/python3.7/dist-packages (from requests<3.0.0,>=2.13.0->spacy<3.2.0,>=3.1.4->en-core-med7-lg==any) (1.24.3)\n",
            "Requirement already satisfied: chardet<4,>=3.0.2 in /usr/local/lib/python3.7/dist-packages (from requests<3.0.0,>=2.13.0->spacy<3.2.0,>=3.1.4->en-core-med7-lg==any) (3.0.4)\n",
            "Requirement already satisfied: click<9.0.0,>=7.1.1 in /usr/local/lib/python3.7/dist-packages (from typer<0.5.0,>=0.3.0->spacy<3.2.0,>=3.1.4->en-core-med7-lg==any) (7.1.2)\n",
            "Requirement already satisfied: MarkupSafe>=0.23 in /usr/local/lib/python3.7/dist-packages (from jinja2->spacy<3.2.0,>=3.1.4->en-core-med7-lg==any) (2.0.1)\n",
            "Installing collected packages: catalogue, typer, srsly, pydantic, thinc, spacy-legacy, pathy, spacy, en-core-med7-lg\n",
            "  Attempting uninstall: catalogue\n",
            "    Found existing installation: catalogue 1.0.0\n",
            "    Uninstalling catalogue-1.0.0:\n",
            "      Successfully uninstalled catalogue-1.0.0\n",
            "  Attempting uninstall: srsly\n",
            "    Found existing installation: srsly 1.0.5\n",
            "    Uninstalling srsly-1.0.5:\n",
            "      Successfully uninstalled srsly-1.0.5\n",
            "  Attempting uninstall: thinc\n",
            "    Found existing installation: thinc 7.4.5\n",
            "    Uninstalling thinc-7.4.5:\n",
            "      Successfully uninstalled thinc-7.4.5\n",
            "  Attempting uninstall: spacy\n",
            "    Found existing installation: spacy 2.3.5\n",
            "    Uninstalling spacy-2.3.5:\n",
            "      Successfully uninstalled spacy-2.3.5\n",
            "Successfully installed catalogue-2.0.6 en-core-med7-lg-3.1.3.1 pathy-0.6.1 pydantic-1.8.2 spacy-3.1.5 spacy-legacy-3.0.9 srsly-2.4.2 thinc-8.0.13 typer-0.4.0\n",
            "Collecting tabula-py\n",
            "  Downloading tabula_py-2.3.0-py3-none-any.whl (12.0 MB)\n",
            "\u001b[K     |████████████████████████████████| 12.0 MB 4.7 MB/s \n",
            "\u001b[?25hRequirement already satisfied: pandas>=0.25.3 in /usr/local/lib/python3.7/dist-packages (from tabula-py) (1.3.5)\n",
            "Collecting distro\n",
            "  Downloading distro-1.7.0-py3-none-any.whl (20 kB)\n",
            "Requirement already satisfied: numpy in /usr/local/lib/python3.7/dist-packages (from tabula-py) (1.21.5)\n",
            "Requirement already satisfied: pytz>=2017.3 in /usr/local/lib/python3.7/dist-packages (from pandas>=0.25.3->tabula-py) (2018.9)\n",
            "Requirement already satisfied: python-dateutil>=2.7.3 in /usr/local/lib/python3.7/dist-packages (from pandas>=0.25.3->tabula-py) (2.8.2)\n",
            "Requirement already satisfied: six>=1.5 in /usr/local/lib/python3.7/dist-packages (from python-dateutil>=2.7.3->pandas>=0.25.3->tabula-py) (1.15.0)\n",
            "Installing collected packages: distro, tabula-py\n",
            "Successfully installed distro-1.7.0 tabula-py-2.3.0\n"
          ]
        }
      ],
      "source": [
        "!sudo apt install tesseract-ocr\n",
        "!pip install Image\n",
        "!pip install camelot-py\n",
        "!pip install camelot-py[cv]\n",
        "!pip install camelot-py[all]\n",
        "!pip install pytesseract\n",
        "!pip install nltk\n",
        "!pip install stopWords\n",
        "!pip install pandas\n",
        "!pip install spacy==2.3.5\n",
        "!pip install https://huggingface.co/kormilitzin/en_core_med7_lg/resolve/main/en_core_med7_lg-any-py3-none-any.whl\n",
        "!pip install tabula-py"
      ]
    },
    {
      "cell_type": "markdown",
      "source": [
        "**LIBRARY FOR SPEECH TO TEXT CONVERSION**"
      ],
      "metadata": {
        "id": "_ZsfhC0d118E"
      }
    },
    {
      "cell_type": "code",
      "execution_count": null,
      "metadata": {
        "colab": {
          "background_save": true,
          "base_uri": "https://localhost:8080/"
        },
        "id": "pV3Sy6it-kyt",
        "outputId": "fde3824f-53e0-4585-b4b4-e0ccedbc8975"
      },
      "outputs": [
        {
          "name": "stdout",
          "output_type": "stream",
          "text": [
            "Collecting SpeechRecognition\n",
            "  Downloading SpeechRecognition-3.8.1-py2.py3-none-any.whl (32.8 MB)\n",
            "\u001b[K     |████████████████████████████████| 32.8 MB 194 kB/s \n",
            "\u001b[?25hInstalling collected packages: SpeechRecognition\n",
            "Successfully installed SpeechRecognition-3.8.1\n"
          ]
        }
      ],
      "source": [
        "!pip install SpeechRecognition"
      ]
    },
    {
      "cell_type": "code",
      "execution_count": null,
      "metadata": {
        "colab": {
          "base_uri": "https://localhost:8080/"
        },
        "id": "ajzUmZzR-jG7",
        "outputId": "49d00cd2-8c44-4a4f-d067-5b0fff481209"
      },
      "outputs": [
        {
          "output_type": "stream",
          "name": "stdout",
          "text": [
            "Requirement already satisfied: pydub in /usr/local/lib/python3.7/dist-packages (0.25.1)\n",
            "Requirement already satisfied: nameparser in /usr/local/lib/python3.7/dist-packages (1.1.1)\n",
            "Collecting pysummarization\n",
            "  Downloading pysummarization-1.1.8.tar.gz (51 kB)\n",
            "\u001b[K     |████████████████████████████████| 51 kB 230 kB/s \n",
            "\u001b[?25hRequirement already satisfied: numpy in /usr/local/lib/python3.7/dist-packages (from pysummarization) (1.21.5)\n",
            "Requirement already satisfied: nltk in /usr/local/lib/python3.7/dist-packages (from pysummarization) (3.2.5)\n",
            "Requirement already satisfied: six in /usr/local/lib/python3.7/dist-packages (from nltk->pysummarization) (1.15.0)\n",
            "Building wheels for collected packages: pysummarization\n",
            "  Building wheel for pysummarization (setup.py) ... \u001b[?25l\u001b[?25hdone\n",
            "  Created wheel for pysummarization: filename=pysummarization-1.1.8-py3-none-any.whl size=59453 sha256=b04be653bf0f2b2026f994e659f51e2817bd4897cd6e91a063a716706cab0603\n",
            "  Stored in directory: /root/.cache/pip/wheels/da/14/3e/02d15001af23ca877c5149b66280a605e5cdbbe76972598afa\n",
            "Successfully built pysummarization\n",
            "Installing collected packages: pysummarization\n",
            "Successfully installed pysummarization-1.1.8\n"
          ]
        }
      ],
      "source": [
        "!pip install pydub\n",
        "!pip install nameparser\n",
        "!pip install pysummarization"
      ]
    },
    {
      "cell_type": "markdown",
      "source": [
        "**LIBRARIES FOR IMAGE TO TEXT CONVERSION**"
      ],
      "metadata": {
        "id": "Ps_mhVHg18-F"
      }
    },
    {
      "cell_type": "code",
      "execution_count": null,
      "metadata": {
        "colab": {
          "base_uri": "https://localhost:8080/"
        },
        "id": "_ly4Vqn_sEtW",
        "outputId": "862ae307-8e59-4d76-9c54-b3bcb183eee4"
      },
      "outputs": [
        {
          "name": "stdout",
          "output_type": "stream",
          "text": [
            "Reading package lists... Done\n",
            "Building dependency tree       \n",
            "Reading state information... Done\n",
            "python3-tk is already the newest version (3.6.9-1~18.04).\n",
            "The following package was automatically installed and is no longer required:\n",
            "  libnvidia-common-470\n",
            "Use 'apt autoremove' to remove it.\n",
            "The following additional packages will be installed:\n",
            "  fonts-droid-fallback fonts-noto-mono gsfonts libcupsfilters1 libcupsimage2\n",
            "  libgs9 libgs9-common libijs-0.35 libjbig2dec0 poppler-data\n",
            "Suggested packages:\n",
            "  fonts-noto ghostscript-x poppler-utils fonts-japanese-mincho\n",
            "  | fonts-ipafont-mincho fonts-japanese-gothic | fonts-ipafont-gothic\n",
            "  fonts-arphic-ukai fonts-arphic-uming fonts-nanum\n",
            "The following NEW packages will be installed:\n",
            "  fonts-droid-fallback fonts-noto-mono ghostscript gsfonts libcupsfilters1\n",
            "  libcupsimage2 libgs9 libgs9-common libijs-0.35 libjbig2dec0 poppler-data\n",
            "0 upgraded, 11 newly installed, 0 to remove and 39 not upgraded.\n",
            "Need to get 14.1 MB of archives.\n",
            "After this operation, 49.9 MB of additional disk space will be used.\n",
            "Get:1 http://archive.ubuntu.com/ubuntu bionic/main amd64 fonts-droid-fallback all 1:6.0.1r16-1.1 [1,805 kB]\n",
            "Get:2 http://archive.ubuntu.com/ubuntu bionic/main amd64 poppler-data all 0.4.8-2 [1,479 kB]\n",
            "Get:3 http://archive.ubuntu.com/ubuntu bionic/main amd64 fonts-noto-mono all 20171026-2 [75.5 kB]\n",
            "Get:4 http://archive.ubuntu.com/ubuntu bionic-updates/main amd64 libcupsimage2 amd64 2.2.7-1ubuntu2.8 [18.6 kB]\n",
            "Get:5 http://archive.ubuntu.com/ubuntu bionic/main amd64 libijs-0.35 amd64 0.35-13 [15.5 kB]\n",
            "Get:6 http://archive.ubuntu.com/ubuntu bionic/main amd64 libjbig2dec0 amd64 0.13-6 [55.9 kB]\n",
            "Get:7 http://archive.ubuntu.com/ubuntu bionic-updates/main amd64 libgs9-common all 9.26~dfsg+0-0ubuntu0.18.04.15 [5,092 kB]\n",
            "Get:8 http://archive.ubuntu.com/ubuntu bionic-updates/main amd64 libgs9 amd64 9.26~dfsg+0-0ubuntu0.18.04.15 [2,265 kB]\n",
            "Get:9 http://archive.ubuntu.com/ubuntu bionic-updates/main amd64 ghostscript amd64 9.26~dfsg+0-0ubuntu0.18.04.15 [51.4 kB]\n",
            "Get:10 http://archive.ubuntu.com/ubuntu bionic/main amd64 gsfonts all 1:8.11+urwcyr1.0.7~pre44-4.4 [3,120 kB]\n",
            "78% [10 gsfonts 4,096 B/3,120 kB 0%]\u001b[0m"
          ]
        }
      ],
      "source": [
        "!apt install ghostscript python3-tk\n",
        "!pip install pdf2image\n",
        "!apt-get install poppler-utils"
      ]
    },
    {
      "cell_type": "markdown",
      "source": [
        "*Camelot is a Python library that can help you extract tables from PDFs!*"
      ],
      "metadata": {
        "id": "MeFuXUmQ2CE3"
      }
    },
    {
      "cell_type": "code",
      "execution_count": null,
      "metadata": {
        "id": "MUOxldmhphRJ"
      },
      "outputs": [],
      "source": [
        "import camelot.io as camelot\n",
        "import re"
      ]
    },
    {
      "cell_type": "code",
      "execution_count": null,
      "metadata": {
        "id": "zt7KTg3aold3"
      },
      "outputs": [],
      "source": [
        "import pytesseract\n",
        "import shutil\n",
        "import os\n",
        "import random\n",
        "try:\n",
        "    from PIL import Image\n",
        "except ImportError:\n",
        "    import Image"
      ]
    },
    {
      "cell_type": "code",
      "execution_count": null,
      "metadata": {
        "id": "vo8mraTWo1ex"
      },
      "outputs": [],
      "source": [
        "# from google.colab import files\n",
        "# uploaded = files.upload()"
      ]
    },
    {
      "cell_type": "markdown",
      "source": [
        "*Extracting the text from image 'image1.jpg' using pytesseract library and then printing it*"
      ],
      "metadata": {
        "id": "9ASm0HB-33SN"
      }
    },
    {
      "cell_type": "code",
      "execution_count": null,
      "metadata": {
        "id": "_kdnD1lFopwF"
      },
      "outputs": [],
      "source": [
        "extractedInformation = pytesseract.image_to_string(Image.open('image1.jpg'))"
      ]
    },
    {
      "cell_type": "code",
      "execution_count": null,
      "metadata": {
        "id": "tD95AjXCoste"
      },
      "outputs": [],
      "source": [
        "print(extractedInformation)"
      ]
    },
    {
      "cell_type": "markdown",
      "source": [
        "# FORMATTING THE TEXT FROM IMAGE"
      ],
      "metadata": {
        "id": "wt9hwXII3839"
      }
    },
    {
      "cell_type": "markdown",
      "source": [
        "*NLTK (Natural Language Toolkit) Library is a suite that contains libraries and programs for statistical language processing. It is one of the most powerful NLP libraries, which contains packages to make machines understand human language and reply to it with an appropriate response.*"
      ],
      "metadata": {
        "id": "X2UVO7MN39sC"
      }
    },
    {
      "cell_type": "code",
      "execution_count": null,
      "metadata": {
        "id": "fvFeR3Kc1KKl"
      },
      "outputs": [],
      "source": [
        "import nltk\n",
        "nltk.download('stopwords')\n",
        "nltk.download('punkt')\n",
        "from nltk.tokenize import sent_tokenize, word_tokenize\n",
        "from nltk.corpus import stopwords\n",
        "import re\n",
        " \n",
        "stopWords = set(stopwords.words('english'))\n",
        "sent = sent_tokenize(extractedInformation)\n",
        "wordsFiltered=[]\n",
        "for w in sent:\n",
        "  wordsFiltered.append(w)\n",
        "word=[]\n",
        "patterns = \"Drug\"\n",
        "for w in wordsFiltered:\n",
        "  x= word_tokenize(w)\n",
        "  for i in x:\n",
        "    if re.match(patterns,i):\n",
        "      print(x)"
      ]
    },
    {
      "cell_type": "markdown",
      "source": [
        "CONVERTING TO DATAFRAME"
      ],
      "metadata": {
        "id": "bCEc-Fsc5VKU"
      }
    },
    {
      "cell_type": "code",
      "execution_count": null,
      "metadata": {
        "id": "GwI9ycdqhHnP"
      },
      "outputs": [],
      "source": [
        "import camelot \n",
        "import pandas as pd\n",
        "tables = camelot.read_pdf('/content/Coronary Angioplasty.pdf')\n",
        "\n",
        "#tables[0].to_csv('camelot.csv')\n",
        "#print(len(tables))\n",
        "tables[0].df"
      ]
    },
    {
      "cell_type": "markdown",
      "source": [
        "*spaCy  is a free, open-source library for advanced Natural Language Processing (NLP) in Python.**spaCy** is designed specifically for production use and helps you build applications that process and “understand” large volumes of text. It can be used to build information extraction or natural language understanding systems, or to pre-process text for deep learning.*"
      ],
      "metadata": {
        "id": "QoBlMxva5YRi"
      }
    },
    {
      "cell_type": "code",
      "execution_count": null,
      "metadata": {
        "id": "yJ2X0ZBHso-f",
        "colab": {
          "base_uri": "https://localhost:8080/",
          "height": 191
        },
        "outputId": "cef1eed5-f718-443c-982e-f133fec199b5"
      },
      "outputs": [
        {
          "output_type": "display_data",
          "data": {
            "text/html": [
              "<span class=\"tex2jax_ignore\"><div class=\"entities\" style=\"line-height: 2.5; direction: ltr\">A patient was prescribed \n",
              "<mark class=\"entity\" style=\"background: #3cb44b; padding: 0.45em 0.6em; margin: 0 0.25em; line-height: 1; border-radius: 0.35em;\">\n",
              "    Magnesium hydroxide\n",
              "    <span style=\"font-size: 0.8em; font-weight: bold; line-height: 1; border-radius: 0.35em; vertical-align: middle; margin-left: 0.5rem\">DRUG</span>\n",
              "</mark>\n",
              " 400mg/5ml \n",
              "<mark class=\"entity\" style=\"background: #ffd8b1; padding: 0.45em 0.6em; margin: 0 0.25em; line-height: 1; border-radius: 0.35em;\">\n",
              "    suspension\n",
              "    <span style=\"font-size: 0.8em; font-weight: bold; line-height: 1; border-radius: 0.35em; vertical-align: middle; margin-left: 0.5rem\">FORM</span>\n",
              "</mark>\n",
              " \n",
              "<mark class=\"entity\" style=\"background: #f032e6; padding: 0.45em 0.6em; margin: 0 0.25em; line-height: 1; border-radius: 0.35em;\">\n",
              "    PO\n",
              "    <span style=\"font-size: 0.8em; font-weight: bold; line-height: 1; border-radius: 0.35em; vertical-align: middle; margin-left: 0.5rem\">ROUTE</span>\n",
              "</mark>\n",
              " of total \n",
              "<mark class=\"entity\" style=\"background: #e6194B; padding: 0.45em 0.6em; margin: 0 0.25em; line-height: 1; border-radius: 0.35em;\">\n",
              "    30ml\n",
              "    <span style=\"font-size: 0.8em; font-weight: bold; line-height: 1; border-radius: 0.35em; vertical-align: middle; margin-left: 0.5rem\">DOSAGE</span>\n",
              "</mark>\n",
              " \n",
              "<mark class=\"entity\" style=\"background: #f58231; padding: 0.45em 0.6em; margin: 0 0.25em; line-height: 1; border-radius: 0.35em;\">\n",
              "    bid\n",
              "    <span style=\"font-size: 0.8em; font-weight: bold; line-height: 1; border-radius: 0.35em; vertical-align: middle; margin-left: 0.5rem\">FREQUENCY</span>\n",
              "</mark>\n",
              " \n",
              "<mark class=\"entity\" style=\"background: #ffe119; padding: 0.45em 0.6em; margin: 0 0.25em; line-height: 1; border-radius: 0.35em;\">\n",
              "    for the\n",
              "    <span style=\"font-size: 0.8em; font-weight: bold; line-height: 1; border-radius: 0.35em; vertical-align: middle; margin-left: 0.5rem\">DURATION</span>\n",
              "</mark>\n",
              " next 5 days.</div></span>"
            ],
            "text/plain": [
              "<IPython.core.display.HTML object>"
            ]
          },
          "metadata": {}
        },
        {
          "output_type": "execute_result",
          "data": {
            "text/plain": [
              "[('Magnesium hydroxide', 'DRUG'),\n",
              " ('suspension', 'FORM'),\n",
              " ('PO', 'ROUTE'),\n",
              " ('30ml', 'DOSAGE'),\n",
              " ('bid', 'FREQUENCY'),\n",
              " ('for the', 'DURATION')]"
            ]
          },
          "metadata": {},
          "execution_count": 78
        }
      ],
      "source": [
        "import spacy\n",
        "\n",
        "med7 = spacy.load(\"en_core_med7_lg\")\n",
        "\n",
        "# create distinct colours for labels\n",
        "col_dict = {}\n",
        "seven_colours = ['#e6194B', '#3cb44b', '#ffe119', '#ffd8b1', '#f58231', '#f032e6', '#42d4f4']\n",
        "for label, colour in zip(med7.pipe_labels['ner'], seven_colours):\n",
        "    col_dict[label] = colour\n",
        "\n",
        "options = {'ents': med7.pipe_labels['ner'], 'colors':col_dict}\n",
        "\n",
        "text = 'A patient was prescribed Magnesium hydroxide 400mg/5ml suspension PO of total 30ml bid for the next 5 days.'\n",
        "doc = med7(text)\n",
        "\n",
        "spacy.displacy.render(doc, style='ent', jupyter=True, options=options)\n",
        "\n",
        "[(ent.text, ent.label_) for ent in doc.ents]"
      ]
    },
    {
      "cell_type": "code",
      "execution_count": null,
      "metadata": {
        "id": "YOAdt0ManL-J"
      },
      "outputs": [],
      "source": [
        "import tabula\n",
        "dataframe = tabula.read_pdf('Coronary Angioplasty.pdf',pages=\"all\")\n",
        "dataframe"
      ]
    },
    {
      "cell_type": "markdown",
      "source": [
        "# EXTRACTING INFORMATION FROM TEXT FILE"
      ],
      "metadata": {
        "id": "CUfljK8P5dXi"
      }
    },
    {
      "cell_type": "markdown",
      "source": [
        "**'find_next' function uses regex expressions to search and extract different generalized information from the extracted text file**"
      ],
      "metadata": {
        "id": "UEh5pq7T5ea7"
      }
    },
    {
      "cell_type": "code",
      "execution_count": null,
      "metadata": {
        "id": "ZF_xlUYq_4UU"
      },
      "outputs": [],
      "source": [
        "def find_next(words,data):\n",
        "  text=\"\"\n",
        "  for word in words:\n",
        "    if(words[0].lower()=='age'):\n",
        "     text=re.search('\\d+(?=[\\s]?y | year)',data.lower())\n",
        "    if(text):\n",
        "      break\n",
        "    text=re.search('(?<='+word.lower()+' : )(\\S*)',data.lower())\n",
        "    if(text):\n",
        "      break\n",
        "  return text"
      ]
    },
    {
      "cell_type": "code",
      "execution_count": null,
      "metadata": {
        "id": "SMx0Rd4FAD-l"
      },
      "outputs": [],
      "source": [
        "from pdf2image import convert_from_path\n",
        "def extract_pdf2img(path):\n",
        "  images = convert_from_path(path)\n",
        "  for i in range(len(images)):\n",
        "    images[i].save('page'+ str(i) +'.jpg', 'JPEG')\n",
        "  return images\n"
      ]
    },
    {
      "cell_type": "code",
      "execution_count": null,
      "metadata": {
        "id": "VBiqM1g1tJyw"
      },
      "outputs": [],
      "source": [
        "images=extract_pdf2img('/content/Coronary Angioplasty.pdf')"
      ]
    },
    {
      "cell_type": "code",
      "execution_count": null,
      "metadata": {
        "id": "L1BQ2bdGuXEL"
      },
      "outputs": [],
      "source": [
        "all_text_data=[]\n",
        "file = open('report.txt','w')\n",
        "for i in range(len(images)):\n",
        "  extractedInformation = pytesseract.image_to_string(Image.open('/content/page'+str(i)+'.jpg'))\n",
        "  sent = sent_tokenize(extractedInformation)\n",
        "  wordsFiltered=[]\n",
        "  for w in sent:\n",
        "    file.write(w)\n",
        "# all_text_data\\\n",
        "file.close()"
      ]
    },
    {
      "cell_type": "code",
      "execution_count": null,
      "metadata": {
        "id": "e1Sn4u3y5Ibo"
      },
      "outputs": [],
      "source": [
        "\n",
        "# def find_next(words,data):\n",
        "  # for word in words:\n",
        "data='''\n",
        "Coronary Angiography\n",
        "\n",
        "Patient :Lalchand Sughomal Lachhani (68y 6m/ Male) _ Patient ID : UNM-2015-08-083152\n",
        "IPD No. : IPD/2022/02/0005003 Admission Date : 20/02/2022\n",
        "\n",
        "Date of Procedure : 23/02/2022 Angio No. : D-42737\n",
        "\n",
        "Time of Procedure : 08:23\n",
        "\n",
        "Primary Operator : Dr. Hasit Joshi (G-19508) Professor in Cardiology\n",
        "Secondary Operator : Dr. Riyaz Didarali Charaniya (G-29637) Assistant Professor in Cardiology\n",
        "\n",
        " \n",
        "\n",
        "Indication\n",
        "\n",
        "- Ischemic Heart Disease Type : CSA\n",
        "\n",
        "- PAMI: No\n",
        "\n",
        "- ACS: No\n",
        "\n",
        "Procedure & Description\n",
        "\n",
        "- Procedure Type : Coronary Angiography\n",
        "\n",
        "- Status of Procedure : Elective , Procedure Approach : Radial - Left\n",
        "\n",
        "- Diagnostic Catheter : Left Coronary TIGER 5F ,Right Coronary TIGER 5F ,Guide wire Non-hydrophilic 03 5,Contrast\n",
        "Agent Nonionic Low-osmolar,Contrast Volume 100 ml\n",
        "\n",
        "- Anesthesia used : LOCAL\n",
        "- Total Radiation Dose at Source : 219.0 mGy\n",
        "\n",
        "Peripheral Stenosis\n",
        "\n",
        "Coronary Anatomy\n",
        "\n",
        "- Extent of Disease : Triple Vessel, Dominance : Right\n",
        "LMCA | LMCA,Detail : Normal\n",
        "\n",
        "Mid LAD, Stenosis Severity : 90 %,\n",
        "\n",
        "Proximal LAD,Detail : Plaque\n",
        "\n",
        "Distal Circumflex,Stenosis Severity : 80 %,\n",
        "RCA | Distal RCA,Lesion's Remarks: IN STENT- 70%\n",
        "\n",
        " \n",
        "\n",
        "LAD\n",
        "\n",
        " \n",
        "\n",
        " \n",
        "\n",
        " \n",
        "\n",
        "Final Diagnosis\n",
        "- OLD ACS, HTN, CAD-TVD, WITH RIGHT RENAL ARTERY, S/P PTCA TO RIGHT PTRA (27/11/2011), S/P\n",
        "PCI TO RCA (INTEGRITY 27/11/2015)(2.75x18), P/W ACS NSTEMI,\n",
        "- LV Function : Severe LVD\n",
        "- TVD : Yes\n",
        "\n",
        "- Remarks : RIGHT RENAL - 50% ISR IN STENT, LEFT RENAL- 60% STENOSIS\n",
        "\n",
        "Advice :\n",
        "PTCA TO LAD & RCA\n",
        "\n",
        "Dr. Hasit Joshi (G-19508) Professor in Cardiology :\n",
        "\n",
        " \n",
        "\n",
        "Dr. Riyaz Didarali Charaniya (G-29637) Assistant Professor in Cardiology :\n",
        "\n",
        " \n",
        "\n",
        "Generated By : Jayshree S. Sanchaniya\n",
        "\n",
        "unmicrc/MRD/Rep-A/02/rev-02 1-Aug-17\n",
        "\f\n",
        " \n",
        "\n",
        "Patient :Lalchand Sughomal Lachhani (68y 6m / Male) Patient ID : UNM-2015-08-083 152\n",
        "IPD No: IPD/2022/02/0005003 Admission Date : 20/02/2022\n",
        "\n",
        "Date of Procedure : 23/02/2022 Angio No. : D-42737\n",
        "\n",
        "Time of Procedure : 08:23\n",
        "\n",
        " \n",
        "\n",
        "unmicrc/MRD/Rep-A/02/rev-02 1-Aug-17\n",
        "'''\n",
        "# "
      ]
    },
    {
      "cell_type": "code",
      "execution_count": null,
      "metadata": {
        "id": "00q4u9OekZ8s"
      },
      "outputs": [],
      "source": [
        ""
      ]
    },
    {
      "cell_type": "code",
      "execution_count": null,
      "metadata": {
        "id": "5Cdwq7eFxAiZ"
      },
      "outputs": [],
      "source": [
        "file = open('report.txt', 'r')\n",
        "# x=\"\"\n",
        "# for each in file:\n",
        "#     print(each)\n",
        "#     words=['Procedure','Time of Procedure']\n",
        "#     x=find_next(words,each)\n",
        "# print(x)"
      ]
    },
    {
      "cell_type": "markdown",
      "source": [
        "**final info is a dictionary in which every information is stored with its corresponding key**"
      ],
      "metadata": {
        "id": "qmBXVsaM5mki"
      }
    },
    {
      "cell_type": "code",
      "execution_count": null,
      "metadata": {
        "id": "4Wgxnun79eNt"
      },
      "outputs": [],
      "source": [
        "final_info={}"
      ]
    },
    {
      "cell_type": "markdown",
      "source": [
        "**add_result function has three different arguments**\n",
        "\n",
        "\n",
        "*   words- list of keywords to find.\n",
        "*   key- the name of key by which the information is stored.\n",
        "*   data- Whole text file in which keywords are searched and extracted\n",
        "\n",
        "\n",
        "\n"
      ],
      "metadata": {
        "id": "qXQ8IywM5oAi"
      }
    },
    {
      "cell_type": "code",
      "execution_count": null,
      "metadata": {
        "id": "7TOfBNIf9sjN"
      },
      "outputs": [],
      "source": [
        "def add_result(words,key,data):\n",
        "  text=find_next(words,data)\n",
        "  if(text):\n",
        "    final_info[key]=text.group(0)\n",
        "    return"
      ]
    },
    {
      "cell_type": "markdown",
      "source": [
        "## Adding every general paramater"
      ],
      "metadata": {
        "id": "J_UFDmqA5s_z"
      }
    },
    {
      "cell_type": "code",
      "execution_count": null,
      "metadata": {
        "id": "wn8QmO3vjzET"
      },
      "outputs": [],
      "source": [
        ""
      ]
    },
    {
      "cell_type": "code",
      "execution_count": null,
      "metadata": {
        "id": "09gEjUkU0VV1"
      },
      "outputs": [],
      "source": [
        "#Age\n",
        "add_result(['Age'],\"Age\",data)"
      ]
    },
    {
      "cell_type": "code",
      "execution_count": null,
      "metadata": {
        "id": "jI30Zd2i8LLk"
      },
      "outputs": [],
      "source": [
        "#Duration of Procedure\n",
        "add_result(['Time of Procedure','Duration of Procedure'],'Duration of Procedure',data)\n",
        "final_info"
      ]
    },
    {
      "cell_type": "code",
      "execution_count": null,
      "metadata": {
        "id": "LgHNLa0H8Spb"
      },
      "outputs": [],
      "source": [
        "#Procedure\n",
        "add_result(['Procedure Type'],'Procedure Type',data)\n",
        "final_info"
      ]
    },
    {
      "cell_type": "code",
      "execution_count": null,
      "metadata": {
        "id": "94uJ8Ho8Zaxz"
      },
      "outputs": [],
      "source": [
        "#Status Of Procedure\n",
        "add_result(['Status Of Procedure'],'Status Of Procedure',data)\n",
        "final_info"
      ]
    },
    {
      "cell_type": "code",
      "execution_count": null,
      "metadata": {
        "id": "UUudxfLiZibo"
      },
      "outputs": [],
      "source": [
        "#Procedure Approach\n",
        "add_result(['Procedure Approach'],'Procedure Approach',data)\n",
        "final_info"
      ]
    },
    {
      "cell_type": "code",
      "execution_count": null,
      "metadata": {
        "id": "tngJHROwidUg"
      },
      "outputs": [],
      "source": [
        "#Ischemic Heart Disease Type\n",
        "add_result(['Ischemic Heart Disease Type'],'Ischemic Heart Disease Type',data)\n",
        "final_info"
      ]
    },
    {
      "cell_type": "code",
      "execution_count": null,
      "metadata": {
        "id": "vPACBcrRZnBB"
      },
      "outputs": [],
      "source": [
        "#advise\n",
        "word='advise'\n",
        "x=re.search('(?<='+word.lower()+')'+'[\\r\\n]+([^\\r\\n]+)',data.lower())\n",
        "x"
      ]
    },
    {
      "cell_type": "code",
      "execution_count": null,
      "metadata": {
        "id": "BRbQgIy4ZnDV"
      },
      "outputs": [],
      "source": [
        "#comments\n",
        "word='Comments'\n",
        "x=re.search('(?<='+word.lower()+')'+'[\\r\\n]+([^\\r\\n]+)',data.lower())\n",
        "x"
      ]
    },
    {
      "cell_type": "code",
      "execution_count": null,
      "metadata": {
        "id": "d2Mlx057ZnGw"
      },
      "outputs": [],
      "source": [
        "def find_next2(words,data,key):\n",
        "    for word in words:\n",
        "        text=re.search('(?<='+word.lower()+': )(\\S*)',data.lower())\n",
        "        if(text):\n",
        "            final_info[key]=text.group(0)"
      ]
    },
    {
      "cell_type": "code",
      "execution_count": null,
      "metadata": {
        "id": "jpDUGp27Z26p"
      },
      "outputs": [],
      "source": [
        "find_next2(\"ACS\",data,\"ACS\")"
      ]
    },
    {
      "cell_type": "code",
      "execution_count": null,
      "metadata": {
        "id": "_yA8MSE6Z28s"
      },
      "outputs": [],
      "source": [
        "find_next2(\"PAMI\",data,\"PAMI\")"
      ]
    },
    {
      "cell_type": "code",
      "execution_count": null,
      "metadata": {
        "id": "R1ca3i2-Z2_9"
      },
      "outputs": [],
      "source": [
        "final_info"
      ]
    },
    {
      "cell_type": "code",
      "execution_count": null,
      "metadata": {
        "id": "KW6Rp_Pfr337"
      },
      "outputs": [],
      "source": [
        "def find_remarks(words,key,data):\n",
        "    for word in words:\n",
        "        text=re.search('(?<='+word.lower()+' :'+')'+'([^\\r\\n]+)',data.lower())\n",
        "        print(text)\n",
        "        if(text):\n",
        "            final_info[key]=text.group(0)\n",
        "\n",
        "find_remarks(['remarks','comments'],'Remarks',data)\n",
        "final_info"
      ]
    },
    {
      "cell_type": "code",
      "execution_count": null,
      "metadata": {
        "id": "Hf04BuHly6mB"
      },
      "outputs": [],
      "source": [
        "def find_advice(words,key,data):\n",
        "    for word in words:\n",
        "        text=re.search('(?<=Advice :)([\\r\\n])([^\\r\\n]+)',data)\n",
        "        text1=re.search('(?<=Advice)([\\r\\n])([^\\r\\n]+)',data)\n",
        "        #print(text)\n",
        "        if(text):\n",
        "            final_info[key]=text.group(0)\n",
        "        if(text1):\n",
        "            final_info[key]=text1.group(0)\n",
        "find_advice(['advice','advise'],'Advice',data)\n",
        "final_info"
      ]
    },
    {
      "cell_type": "code",
      "execution_count": null,
      "metadata": {
        "id": "-vhN3J89fBwf"
      },
      "outputs": [],
      "source": [
        "def name(word,key):\n",
        "  file=open('/content/report.txt','r')\n",
        "  Lines = file.readlines()\n",
        "  \n",
        "  count = 0\n",
        "  # Strips the newline character\n",
        "  for line in Lines:\n",
        "      # line=line.lower()\n",
        "      if word in line:\n",
        "          # word=word.lower()\n",
        "          x=re.findall(r\"[A-Z][a-z]+,?\\s+(?:[A-Z][a-z]*\\.?\\s*)?[A-Z][a-z]+\", line)\n",
        "          for j in x:\n",
        "            final_info[key]=j"
      ]
    },
    {
      "cell_type": "code",
      "execution_count": null,
      "metadata": {
        "id": "TyFaAaFEqcH9"
      },
      "outputs": [],
      "source": [
        "name(\"Patient\",\"Patient\")\n",
        "name(\"Primary Operator\",\"Doctor\")"
      ]
    },
    {
      "cell_type": "code",
      "execution_count": null,
      "metadata": {
        "colab": {
          "base_uri": "https://localhost:8080/"
        },
        "id": "0RL0TS4Tqk3Y",
        "outputId": "c2021083-4abc-490e-c1ab-fa53fe63a662"
      },
      "outputs": [
        {
          "data": {
            "text/plain": [
              "{'ACS': 'no',\n",
              " 'Advice': '\\nPTCA TO LAD & RCA',\n",
              " 'Age': '68',\n",
              " 'Doctor': 'Hasit Joshi',\n",
              " 'Duration of Procedure': '08:23',\n",
              " 'Ischemic Heart Disease Type': 'csa',\n",
              " 'PAMI': 'no',\n",
              " 'Patient': 'Lalchand Sughomal Lachhani',\n",
              " 'Procedure Approach': 'radial',\n",
              " 'Procedure Type': 'coronary',\n",
              " 'Remarks': ' right renal - 50% isr in stent, left renal- 60% stenosis',\n",
              " 'Status Of Procedure': 'elective'}"
            ]
          },
          "execution_count": null,
          "metadata": {},
          "output_type": "execute_result"
        }
      ],
      "source": [
        "final_info"
      ]
    },
    {
      "cell_type": "code",
      "source": [
        "import spacy\n",
        "\n",
        "med7 = spacy.load(\"en_core_med7_lg\")\n",
        "\n",
        "# create distinct colours for labels\n",
        "col_dict = {}\n",
        "seven_colours = ['#e6194B', '#3cb44b', '#ffe119', '#ffd8b1', '#f58231', '#f032e6', '#42d4f4']\n",
        "for label, colour in zip(med7.pipe_labels['ner'], seven_colours):\n",
        "    col_dict[label] = colour\n",
        "\n",
        "options = {'ents': med7.pipe_labels['ner'], 'colors':col_dict}\n",
        "\n",
        "file=open('/content/report.txt','r')\n",
        "Lines = file.readlines()\n",
        "\n",
        "for line in Lines:\n",
        "  doc = med7(line)\n",
        "  for ent in doc.ents:\n",
        "    if(ent.label_.lower()==\"drug\"):\n",
        "      final_info['Drug']=ent.text\n",
        "  # print([(ent.text, ent.label_) for ent in doc.ents])\n",
        "  # spacy.displacy.render(doc, style='ent', jupyter=True, options=options)\n",
        "  # [(ent.text, ent.label_) for ent in doc.ents]\n",
        "print(final_info)"
      ],
      "metadata": {
        "colab": {
          "base_uri": "https://localhost:8080/"
        },
        "id": "04N5fPgDEZAl",
        "outputId": "68df4a5a-a603-43a7-fe7b-d31dd22feffd"
      },
      "execution_count": null,
      "outputs": [
        {
          "output_type": "stream",
          "name": "stdout",
          "text": [
            "{'Age': '68', 'Duration of Procedure': '08:23', 'Procedure Type': 'coronary', 'Status Of Procedure': 'elective', 'Procedure Approach': 'radial', 'Ischemic Heart Disease Type': 'csa', 'ACS': 'no', 'PAMI': 'no', 'Remarks': ' right renal - 50% isr in stent, left renal- 60% stenosis', 'Advice': '\\nPTCA TO LAD & RCA', 'Patient': 'Lalchand Sughomal Lachhani', 'Doctor': 'Hasit Joshi', 'Drug': 'unmicrc'}\n"
          ]
        }
      ]
    },
    {
      "cell_type": "code",
      "source": [
        "import pandas as pd\n",
        "df=pd.DataFrame(data=final_info,index=[0])\n",
        "print (df)\n",
        "df.to_excel('dict1.xlsx')"
      ],
      "metadata": {
        "id": "3xPwJ6fa3PpC",
        "outputId": "cdf8301d-d6a7-49fa-c81c-bdc645d961b4",
        "colab": {
          "base_uri": "https://localhost:8080/"
        }
      },
      "execution_count": null,
      "outputs": [
        {
          "output_type": "stream",
          "name": "stdout",
          "text": [
            "  Age Duration of Procedure Procedure Type Status Of Procedure  \\\n",
            "0  68                 08:23       coronary            elective   \n",
            "\n",
            "  Procedure Approach Ischemic Heart Disease Type ACS PAMI  \\\n",
            "0             radial                         csa  no   no   \n",
            "\n",
            "                                             Remarks               Advice  \\\n",
            "0   right renal - 50% isr in stent, left renal- 6...  \\nPTCA TO LAD & RCA   \n",
            "\n",
            "                      Patient       Doctor     Drug  \n",
            "0  Lalchand Sughomal Lachhani  Hasit Joshi  unmicrc  \n"
          ]
        }
      ]
    },
    {
      "cell_type": "code",
      "execution_count": null,
      "metadata": {
        "id": "NlW7LQhhqmKu"
      },
      "outputs": [],
      "source": [
        "# Comments\n",
        "# - Type Of Procedure : Multi Vessel Angioplasty\n",
        "# - Lesion Summary : Lesions Attempted-1 , Lesions Stented-1 , Stent Used-1 , Lesions Successfully Dilated-1\n",
        "# Final Diagnosis\n",
        "# - Procedure Result : Successful PTCA to LAD done\n",
        "# Advise\n",
        "# -Regular Follow-up & Medicine : Staged PTCA to RCA"
      ]
    },
    {
      "cell_type": "markdown",
      "source": [
        "# EXTRACTING FROM SPEECH/AUDIO FILES"
      ],
      "metadata": {
        "id": "LPteSB_V5y8B"
      }
    },
    {
      "cell_type": "code",
      "execution_count": null,
      "metadata": {
        "colab": {
          "base_uri": "https://localhost:8080/"
        },
        "id": "Ja6nc6YBQwnz",
        "outputId": "39dc59b8-33e1-4405-ac1c-63f9ab363099"
      },
      "outputs": [
        {
          "output_type": "stream",
          "name": "stdout",
          "text": [
            "Converting Audio to TEXT....\n",
            "the patient is a 49 year old white female establish Vista Dermatology lasting office on the 8th of 10th 2004 she comes in today for revitalization of acne plus she has it was a rush for the past two months now and I trashed stomach neck and back on examination\n"
          ]
        }
      ],
      "source": [
        "#Speech to text \n",
        "#import libraries\n",
        "\n",
        "import speech_recognition as sr\n",
        "r = sr.Recognizer()\n",
        "with sr.AudioFile('/content/VOXTAB_Medical_audio.wav') as source:\n",
        "    audio_text = r.listen(source)\n",
        "    try:\n",
        "        text = r.recognize_google(audio_text)\n",
        "        print('Converting Audio to TEXT....')\n",
        "        print(text)\n",
        "    except:\n",
        "         print('Run again, API Error !')"
      ]
    },
    {
      "cell_type": "code",
      "execution_count": null,
      "metadata": {
        "id": "UlXPdGmOuCzJ"
      },
      "outputs": [],
      "source": [
        "import speech_recognition as sr \n",
        "import os \n",
        "from pydub import AudioSegment\n",
        "from pydub.silence import split_on_silence\n",
        "\n",
        "\n",
        "r = sr.Recognizer()\n",
        "\n",
        "def get_large_audio_transcription(path):\n",
        "    \"\"\"\n",
        "    Splitting the large audio file into chunks\n",
        "    and apply speech recognition on each of these chunks\n",
        "    \"\"\"\n",
        "    sound = AudioSegment.from_wav(path)  \n",
        "    chunks = split_on_silence(sound,\n",
        "        min_silence_len = 500,\n",
        "        silence_thresh = sound.dBFS-14,\n",
        "\n",
        "        keep_silence=500,\n",
        "    )\n",
        "    folder_name = \"audio-chunks\"\n",
        "    if not os.path.isdir(folder_name):\n",
        "        os.mkdir(folder_name)\n",
        "    whole_text = \"\"\n",
        "    for i, audio_chunk in enumerate(chunks, start=1):\n",
        "        chunk_filename = os.path.join(folder_name, f\"chunk{i}.wav\")\n",
        "        audio_chunk.export(chunk_filename, format=\"wav\")\n",
        "        with sr.AudioFile(chunk_filename) as source:\n",
        "            audio_listened = r.record(source)\n",
        "            try:\n",
        "                text = r.recognize_google(audio_listened)\n",
        "            except sr.UnknownValueError as e:\n",
        "                print(\"Error:\", str(e))\n",
        "            else:\n",
        "                text = f\"{text.capitalize()}. \"\n",
        "                print(chunk_filename, \":\", text)\n",
        "                whole_text += text\n",
        "    return whole_text"
      ]
    },
    {
      "cell_type": "code",
      "source": [
        "from google.colab import drive\n",
        "drive.mount('/content/drive')"
      ],
      "metadata": {
        "id": "shhuLylINLcV"
      },
      "execution_count": null,
      "outputs": []
    },
    {
      "cell_type": "code",
      "source": [
        "text=get_large_audio_transcription('/content/JonesMedical.wav')"
      ],
      "metadata": {
        "colab": {
          "base_uri": "https://localhost:8080/"
        },
        "id": "9MTdW2u3wOe3",
        "outputId": "2b2f8e1a-605e-419a-c338-c180394c82e7"
      },
      "execution_count": null,
      "outputs": [
        {
          "output_type": "stream",
          "name": "stdout",
          "text": [
            "audio-chunks/chunk1.wav : Hi this is doctor helen white. \n",
            "audio-chunks/chunk2.wav : Today's the 16th of june. \n",
            "audio-chunks/chunk3.wav : I'm doing a referral after please. \n",
            "audio-chunks/chunk4.wav : All reference h.w. / ca. \n",
            "audio-chunks/chunk5.wav : He could date today's date. \n",
            "audio-chunks/chunk6.wav : Pocket private confidential full mister jason. \n",
            "audio-chunks/chunk7.wav : Spring consultant orthopedic surgeon. \n",
            "audio-chunks/chunk8.wav : Whiskey hospital davis teespring. \n",
            "audio-chunks/chunk9.wav : Ari. \n",
            "audio-chunks/chunk10.wav : Thomas jones date of birth. \n",
            "audio-chunks/chunk11.wav : 22nd of june 1972 address one the house to the road. \n",
            "audio-chunks/chunk12.wav : Liverpool l13 pa. \n",
            "audio-chunks/chunk13.wav : Telephone number. \n",
            "audio-chunks/chunk14.wav : Oh 77421 932 18. \n",
            "audio-chunks/chunk15.wav : So you could see this 38 year old gentleman. \n",
            "audio-chunks/chunk16.wav : Mr. jones is a nice young gentleman who tell it be since buying tight footwear has suffered from left medial foot arch pain. \n",
            "audio-chunks/chunk17.wav : Zane is infiltration system. \n",
            "audio-chunks/chunk18.wav : I need some food from tuesday or thursday. \n",
            "audio-chunks/chunk19.wav : . he finds it the pain gets worse after he receives his exercise regime.. \n",
            "audio-chunks/chunk20.wav : All examinations new baby tendinous he's somewhat 10 to over the midpoint of his middle media arts. \n",
            "audio-chunks/chunk21.wav : Play left foot. you parrot. \n",
            "audio-chunks/chunk22.wav : I want your sister's unresolved spotify. \n",
            "audio-chunks/chunk23.wav : What he would benefit from steroid injection. \n",
            "audio-chunks/chunk24.wav : I would be grateful for your expert opinion thank you very much staying in yours and say i like. \n"
          ]
        }
      ]
    },
    {
      "cell_type": "code",
      "source": [
        "text"
      ],
      "metadata": {
        "colab": {
          "base_uri": "https://localhost:8080/",
          "height": 191
        },
        "id": "2NpYLcbfx7k8",
        "outputId": "37a261af-e4e2-4021-cbf8-a4c63bbb15ce"
      },
      "execution_count": null,
      "outputs": [
        {
          "output_type": "execute_result",
          "data": {
            "application/vnd.google.colaboratory.intrinsic+json": {
              "type": "string"
            },
            "text/plain": [
              "\"Hi this is doctor helen white. Today's the 16th of june. I'm doing a referral after please. All reference h.w. / ca. He could date today's date. Pocket private confidential full mister jason. Spring consultant orthopedic surgeon. Whiskey hospital davis teespring. Ari. Thomas jones date of birth. 22nd of june 1972 address one the house to the road. Liverpool l13 pa. Telephone number. Oh 77421 932 18. So you could see this 38 year old gentleman. Mr. jones is a nice young gentleman who tell it be since buying tight footwear has suffered from left medial foot arch pain. Zane is infiltration system. I need some food from tuesday or thursday. . he finds it the pain gets worse after he receives his exercise regime.. All examinations new baby tendinous he's somewhat 10 to over the midpoint of his middle media arts. Play left foot. you parrot. I want your sister's unresolved spotify. What he would benefit from steroid injection. I would be grateful for your expert opinion thank you very much staying in yours and say i like. \""
            ]
          },
          "metadata": {},
          "execution_count": 62
        }
      ]
    },
    {
      "cell_type": "code",
      "source": [
        "# inp = sr.AudioFile('/content/JonesMedical.wav')\n",
        "# with inp as file:\n",
        "#   audio = r.record(file)\n",
        "#   print(r.recognize_google(audio))\n",
        "#   # print(audio)"
      ],
      "metadata": {
        "colab": {
          "base_uri": "https://localhost:8080/"
        },
        "id": "ikd-Q9u6wa6B",
        "outputId": "dd069fb2-2931-48b8-c0d7-8e55da878f37"
      },
      "execution_count": null,
      "outputs": [
        {
          "output_type": "stream",
          "name": "stdout",
          "text": [
            "hi this is Doctor Helen White today's the 16th of June I'm doing a referral lots of please all reference HW / CA you could dated today's date private confidential for mr. Jason spring consultant Orthopaedic surgeon whiskey Hospital Thomas Jones\n"
          ]
        }
      ]
    },
    {
      "cell_type": "code",
      "source": [
        "from nameparser import HumanName\n",
        "# for line in text:\n",
        "#   print(line)\n",
        "text_sent=sent_tokenize(text)\n",
        "# name=\"\"\n",
        "for sent in text_sent:\n",
        "  name=HumanName(sent)\n",
        "  print(name)"
      ],
      "metadata": {
        "colab": {
          "base_uri": "https://localhost:8080/"
        },
        "id": "GX3v89oAxCyi",
        "outputId": "b6ae9dff-26d6-4c22-b52e-8f9f5bbf0929"
      },
      "execution_count": null,
      "outputs": [
        {
          "output_type": "stream",
          "name": "stdout",
          "text": [
            "Hi this is doctor helen white.\n",
            "Today's the 16th of june.\n",
            "I'm doing a referral after please.\n",
            "All reference h.w.\n",
            "/ ca.\n",
            "He could date today's date.\n",
            "Pocket private confidential full mister jason.\n",
            "Spring consultant orthopedic surgeon.\n",
            "Whiskey hospital davis teespring.\n",
            "Ari.\n",
            "Thomas jones date of birth.\n",
            "22nd of june 1972 address one the house to the road.\n",
            "Liverpool l13 pa. Telephone number.\n",
            "Oh 77421 932 18.\n",
            "So you could see this 38 year old gentleman.\n",
            "Mr. jones is a nice young gentleman who tell it be since buying tight footwear has suffered from left medial foot arch pain.\n",
            "Zane is infiltration system.\n",
            "I need some food from tuesday or thursday.\n",
            ".\n",
            "he finds it the pain gets worse after he receives his exercise regime.. All examinations new baby tendinous he's somewhat 10 to over the midpoint of his middle media arts.\n",
            "Play left foot.\n",
            "you parrot.\n",
            "I want your sister's unresolved spotify.\n",
            "What he would benefit from steroid injection.\n",
            "I would be grateful for your expert opinion thank you very much staying in yours and say i like.\n"
          ]
        }
      ]
    },
    {
      "cell_type": "code",
      "source": [
        "from pysummarization.nlpbase.auto_abstractor import AutoAbstractor\n",
        "from pysummarization.tokenizabledoc.simple_tokenizer import SimpleTokenizer\n",
        "from pysummarization.abstractabledoc.top_n_rank_abstractor import TopNRankAbstractor\n",
        "auto_abstractor = AutoAbstractor()\n",
        "auto_abstractor.tokenizable_doc = SimpleTokenizer()\n",
        "auto_abstractor.delimiter_list = [\".\", \"\\n\"]\n",
        "abstractable_doc = TopNRankAbstractor()\n",
        "result_dict = auto_abstractor.summarize(text, abstractable_doc)\n",
        "for sentence in result_dict[\"summarize_result\"]:\n",
        "    print(sentence)"
      ],
      "metadata": {
        "id": "NSQVGYJvz9Vp",
        "colab": {
          "base_uri": "https://localhost:8080/"
        },
        "outputId": "25b12f00-73c8-4ce9-f707-1e175356516d"
      },
      "execution_count": null,
      "outputs": [
        {
          "output_type": "stream",
          "name": "stdout",
          "text": [
            "Hi this is doctor helen white.\n",
            "\n",
            " Today's the 16th of june.\n",
            "\n",
            " I'm doing a referral after please.\n",
            "\n",
            " He could date today's date.\n",
            "\n",
            " Pocket private confidential full mister jason.\n",
            "\n",
            " Thomas jones date of birth.\n",
            "\n",
            " 22nd of june 1972 address one the house to the road.\n",
            "\n",
            " So you could see this 38 year old gentleman.\n",
            "\n",
            " jones is a nice young gentleman who tell it be since buying tight footwear has suffered from left medial foot arch pain.\n",
            "\n",
            " I need some food from tuesday or thursday.\n",
            "\n"
          ]
        }
      ]
    }
  ],
  "metadata": {
    "accelerator": "GPU",
    "colab": {
      "collapsed_sections": [],
      "name": "Healthcare.ipynb",
      "provenance": []
    },
    "kernelspec": {
      "display_name": "Python 3",
      "name": "python3"
    },
    "language_info": {
      "name": "python"
    }
  },
  "nbformat": 4,
  "nbformat_minor": 0
}