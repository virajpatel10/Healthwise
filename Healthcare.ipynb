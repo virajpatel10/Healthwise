{
 "cells": [
  {
   "cell_type": "markdown",
   "metadata": {
    "id": "WvzTqns2F8h-"
   },
   "source": [
    "https://kormilitzin.medium.com/med7-clinical-information-extraction-system-in-python-and-spacy-5e6f68ab1c68"
   ]
  },
  {
   "cell_type": "markdown",
   "metadata": {
    "id": "S3c6x6Bn1r7G"
   },
   "source": [
    "# **INSTALLING LLIBRARIES AND DEPENDENCIES** "
   ]
  },
  {
   "cell_type": "code",
   "execution_count": 7,
   "metadata": {
    "colab": {
     "background_save": true,
     "base_uri": "https://localhost:8080/"
    },
    "id": "T2Pwy5YwnN3J",
    "outputId": "70ca8b40-3967-4782-c66f-d8e39a10e1a9"
   },
   "outputs": [
    {
     "name": "stdout",
     "output_type": "stream",
     "text": [
      "Requirement already satisfied: Image in /opt/anaconda3/lib/python3.12/site-packages (1.5.33)\n",
      "Requirement already satisfied: pillow in /opt/anaconda3/lib/python3.12/site-packages (from Image) (10.4.0)\n",
      "Requirement already satisfied: django in /opt/anaconda3/lib/python3.12/site-packages (from Image) (5.1.3)\n",
      "Requirement already satisfied: six in /opt/anaconda3/lib/python3.12/site-packages (from Image) (1.16.0)\n",
      "Requirement already satisfied: asgiref<4,>=3.8.1 in /opt/anaconda3/lib/python3.12/site-packages (from django->Image) (3.8.1)\n",
      "Requirement already satisfied: sqlparse>=0.3.1 in /opt/anaconda3/lib/python3.12/site-packages (from django->Image) (0.5.2)\n",
      "Requirement already satisfied: camelot-py[cv] in /opt/anaconda3/lib/python3.12/site-packages (0.9.0)\n",
      "Requirement already satisfied: chardet>=3.0.4 in /opt/anaconda3/lib/python3.12/site-packages (from camelot-py[cv]) (4.0.0)\n",
      "Requirement already satisfied: click>=6.7 in /opt/anaconda3/lib/python3.12/site-packages (from camelot-py[cv]) (8.1.7)\n",
      "Requirement already satisfied: numpy>=1.13.3 in /opt/anaconda3/lib/python3.12/site-packages (from camelot-py[cv]) (1.26.4)\n",
      "Requirement already satisfied: openpyxl>=2.5.8 in /opt/anaconda3/lib/python3.12/site-packages (from camelot-py[cv]) (3.1.5)\n",
      "Requirement already satisfied: pandas>=0.23.4 in /opt/anaconda3/lib/python3.12/site-packages (from camelot-py[cv]) (2.2.2)\n",
      "Requirement already satisfied: pdfminer.six>=20200726 in /opt/anaconda3/lib/python3.12/site-packages (from camelot-py[cv]) (20240706)\n",
      "Requirement already satisfied: PyPDF2>=1.26.0 in /opt/anaconda3/lib/python3.12/site-packages (from camelot-py[cv]) (2.12.1)\n",
      "Requirement already satisfied: opencv-python>=3.4.2.17 in /opt/anaconda3/lib/python3.12/site-packages (from camelot-py[cv]) (4.10.0.84)\n",
      "Requirement already satisfied: et-xmlfile in /opt/anaconda3/lib/python3.12/site-packages (from openpyxl>=2.5.8->camelot-py[cv]) (1.1.0)\n",
      "Requirement already satisfied: python-dateutil>=2.8.2 in /opt/anaconda3/lib/python3.12/site-packages (from pandas>=0.23.4->camelot-py[cv]) (2.9.0.post0)\n",
      "Requirement already satisfied: pytz>=2020.1 in /opt/anaconda3/lib/python3.12/site-packages (from pandas>=0.23.4->camelot-py[cv]) (2024.1)\n",
      "Requirement already satisfied: tzdata>=2022.7 in /opt/anaconda3/lib/python3.12/site-packages (from pandas>=0.23.4->camelot-py[cv]) (2023.3)\n",
      "Requirement already satisfied: charset-normalizer>=2.0.0 in /opt/anaconda3/lib/python3.12/site-packages (from pdfminer.six>=20200726->camelot-py[cv]) (3.3.2)\n",
      "Requirement already satisfied: cryptography>=36.0.0 in /opt/anaconda3/lib/python3.12/site-packages (from pdfminer.six>=20200726->camelot-py[cv]) (43.0.0)\n",
      "Requirement already satisfied: cffi>=1.12 in /opt/anaconda3/lib/python3.12/site-packages (from cryptography>=36.0.0->pdfminer.six>=20200726->camelot-py[cv]) (1.17.1)\n",
      "Requirement already satisfied: six>=1.5 in /opt/anaconda3/lib/python3.12/site-packages (from python-dateutil>=2.8.2->pandas>=0.23.4->camelot-py[cv]) (1.16.0)\n",
      "Requirement already satisfied: pycparser in /opt/anaconda3/lib/python3.12/site-packages (from cffi>=1.12->cryptography>=36.0.0->pdfminer.six>=20200726->camelot-py[cv]) (2.21)\n",
      "Requirement already satisfied: camelot-py[all] in /opt/anaconda3/lib/python3.12/site-packages (0.9.0)\n",
      "Requirement already satisfied: chardet>=3.0.4 in /opt/anaconda3/lib/python3.12/site-packages (from camelot-py[all]) (4.0.0)\n",
      "Requirement already satisfied: click>=6.7 in /opt/anaconda3/lib/python3.12/site-packages (from camelot-py[all]) (8.1.7)\n",
      "Requirement already satisfied: numpy>=1.13.3 in /opt/anaconda3/lib/python3.12/site-packages (from camelot-py[all]) (1.26.4)\n",
      "Requirement already satisfied: openpyxl>=2.5.8 in /opt/anaconda3/lib/python3.12/site-packages (from camelot-py[all]) (3.1.5)\n",
      "Requirement already satisfied: pandas>=0.23.4 in /opt/anaconda3/lib/python3.12/site-packages (from camelot-py[all]) (2.2.2)\n",
      "Requirement already satisfied: pdfminer.six>=20200726 in /opt/anaconda3/lib/python3.12/site-packages (from camelot-py[all]) (20240706)\n",
      "Requirement already satisfied: PyPDF2>=1.26.0 in /opt/anaconda3/lib/python3.12/site-packages (from camelot-py[all]) (2.12.1)\n",
      "Requirement already satisfied: opencv-python>=3.4.2.17 in /opt/anaconda3/lib/python3.12/site-packages (from camelot-py[all]) (4.10.0.84)\n",
      "Requirement already satisfied: matplotlib>=2.2.3 in /opt/anaconda3/lib/python3.12/site-packages (from camelot-py[all]) (3.9.2)\n",
      "Requirement already satisfied: contourpy>=1.0.1 in /opt/anaconda3/lib/python3.12/site-packages (from matplotlib>=2.2.3->camelot-py[all]) (1.2.0)\n",
      "Requirement already satisfied: cycler>=0.10 in /opt/anaconda3/lib/python3.12/site-packages (from matplotlib>=2.2.3->camelot-py[all]) (0.11.0)\n",
      "Requirement already satisfied: fonttools>=4.22.0 in /opt/anaconda3/lib/python3.12/site-packages (from matplotlib>=2.2.3->camelot-py[all]) (4.51.0)\n",
      "Requirement already satisfied: kiwisolver>=1.3.1 in /opt/anaconda3/lib/python3.12/site-packages (from matplotlib>=2.2.3->camelot-py[all]) (1.4.4)\n",
      "Requirement already satisfied: packaging>=20.0 in /opt/anaconda3/lib/python3.12/site-packages (from matplotlib>=2.2.3->camelot-py[all]) (24.1)\n",
      "Requirement already satisfied: pillow>=8 in /opt/anaconda3/lib/python3.12/site-packages (from matplotlib>=2.2.3->camelot-py[all]) (10.4.0)\n",
      "Requirement already satisfied: pyparsing>=2.3.1 in /opt/anaconda3/lib/python3.12/site-packages (from matplotlib>=2.2.3->camelot-py[all]) (3.1.2)\n",
      "Requirement already satisfied: python-dateutil>=2.7 in /opt/anaconda3/lib/python3.12/site-packages (from matplotlib>=2.2.3->camelot-py[all]) (2.9.0.post0)\n",
      "Requirement already satisfied: et-xmlfile in /opt/anaconda3/lib/python3.12/site-packages (from openpyxl>=2.5.8->camelot-py[all]) (1.1.0)\n",
      "Requirement already satisfied: pytz>=2020.1 in /opt/anaconda3/lib/python3.12/site-packages (from pandas>=0.23.4->camelot-py[all]) (2024.1)\n",
      "Requirement already satisfied: tzdata>=2022.7 in /opt/anaconda3/lib/python3.12/site-packages (from pandas>=0.23.4->camelot-py[all]) (2023.3)\n",
      "Requirement already satisfied: charset-normalizer>=2.0.0 in /opt/anaconda3/lib/python3.12/site-packages (from pdfminer.six>=20200726->camelot-py[all]) (3.3.2)\n",
      "Requirement already satisfied: cryptography>=36.0.0 in /opt/anaconda3/lib/python3.12/site-packages (from pdfminer.six>=20200726->camelot-py[all]) (43.0.0)\n",
      "Requirement already satisfied: cffi>=1.12 in /opt/anaconda3/lib/python3.12/site-packages (from cryptography>=36.0.0->pdfminer.six>=20200726->camelot-py[all]) (1.17.1)\n",
      "Requirement already satisfied: six>=1.5 in /opt/anaconda3/lib/python3.12/site-packages (from python-dateutil>=2.7->matplotlib>=2.2.3->camelot-py[all]) (1.16.0)\n",
      "Requirement already satisfied: pycparser in /opt/anaconda3/lib/python3.12/site-packages (from cffi>=1.12->cryptography>=36.0.0->pdfminer.six>=20200726->camelot-py[all]) (2.21)\n",
      "Requirement already satisfied: pytesseract in /opt/anaconda3/lib/python3.12/site-packages (0.3.13)\n",
      "Requirement already satisfied: packaging>=21.3 in /opt/anaconda3/lib/python3.12/site-packages (from pytesseract) (24.1)\n",
      "Requirement already satisfied: Pillow>=8.0.0 in /opt/anaconda3/lib/python3.12/site-packages (from pytesseract) (10.4.0)\n",
      "Requirement already satisfied: nltk in /opt/anaconda3/lib/python3.12/site-packages (3.9.1)\n",
      "Requirement already satisfied: click in /opt/anaconda3/lib/python3.12/site-packages (from nltk) (8.1.7)\n",
      "Requirement already satisfied: joblib in /opt/anaconda3/lib/python3.12/site-packages (from nltk) (1.4.2)\n",
      "Requirement already satisfied: regex>=2021.8.3 in /opt/anaconda3/lib/python3.12/site-packages (from nltk) (2024.9.11)\n",
      "Requirement already satisfied: tqdm in /opt/anaconda3/lib/python3.12/site-packages (from nltk) (4.66.5)\n",
      "Requirement already satisfied: stopWords in /opt/anaconda3/lib/python3.12/site-packages (1.0.1)\n",
      "Requirement already satisfied: pandas in /opt/anaconda3/lib/python3.12/site-packages (2.2.2)\n",
      "Requirement already satisfied: numpy>=1.26.0 in /opt/anaconda3/lib/python3.12/site-packages (from pandas) (1.26.4)\n",
      "Requirement already satisfied: python-dateutil>=2.8.2 in /opt/anaconda3/lib/python3.12/site-packages (from pandas) (2.9.0.post0)\n",
      "Requirement already satisfied: pytz>=2020.1 in /opt/anaconda3/lib/python3.12/site-packages (from pandas) (2024.1)\n",
      "Requirement already satisfied: tzdata>=2022.7 in /opt/anaconda3/lib/python3.12/site-packages (from pandas) (2023.3)\n",
      "Requirement already satisfied: six>=1.5 in /opt/anaconda3/lib/python3.12/site-packages (from python-dateutil>=2.8.2->pandas) (1.16.0)\n",
      "Requirement already satisfied: tabula-py in /opt/anaconda3/lib/python3.12/site-packages (2.10.0)\n",
      "Requirement already satisfied: pandas>=0.25.3 in /opt/anaconda3/lib/python3.12/site-packages (from tabula-py) (2.2.2)\n",
      "Requirement already satisfied: numpy>1.24.4 in /opt/anaconda3/lib/python3.12/site-packages (from tabula-py) (1.26.4)\n",
      "Requirement already satisfied: distro in /opt/anaconda3/lib/python3.12/site-packages (from tabula-py) (1.9.0)\n",
      "Requirement already satisfied: python-dateutil>=2.8.2 in /opt/anaconda3/lib/python3.12/site-packages (from pandas>=0.25.3->tabula-py) (2.9.0.post0)\n",
      "Requirement already satisfied: pytz>=2020.1 in /opt/anaconda3/lib/python3.12/site-packages (from pandas>=0.25.3->tabula-py) (2024.1)\n",
      "Requirement already satisfied: tzdata>=2022.7 in /opt/anaconda3/lib/python3.12/site-packages (from pandas>=0.25.3->tabula-py) (2023.3)\n",
      "Requirement already satisfied: six>=1.5 in /opt/anaconda3/lib/python3.12/site-packages (from python-dateutil>=2.8.2->pandas>=0.25.3->tabula-py) (1.16.0)\n"
     ]
    }
   ],
   "source": [
    "#!sudo apt install tesseract-ocr\n",
    "!pip install Image\n",
    "!pip install 'camelot-py[cv]'\n",
    "!pip install 'camelot-py[all]'\n",
    "!pip install pytesseract\n",
    "!pip install nltk\n",
    "!pip install stopWords\n",
    "!pip install pandas\n",
    "#!pip install --no-cache-dir https://huggingface.co/kormilitzin/en_core_med7_lg/resolve/main/en_core_med7_lg-any-py3-none-any.whl\n",
    "!pip install tabula-py"
   ]
  },
  {
   "cell_type": "code",
   "execution_count": 9,
   "metadata": {
    "colab": {
     "base_uri": "https://localhost:8080/"
    },
    "id": "ajzUmZzR-jG7",
    "outputId": "49d00cd2-8c44-4a4f-d067-5b0fff481209"
   },
   "outputs": [
    {
     "name": "stdout",
     "output_type": "stream",
     "text": [
      "Requirement already satisfied: pydub in /opt/anaconda3/lib/python3.12/site-packages (0.25.1)\n",
      "Requirement already satisfied: nameparser in /opt/anaconda3/lib/python3.12/site-packages (1.1.3)\n",
      "Requirement already satisfied: pysummarization in /opt/anaconda3/lib/python3.12/site-packages (1.1.9)\n",
      "Requirement already satisfied: numpy in /opt/anaconda3/lib/python3.12/site-packages (from pysummarization) (1.26.4)\n",
      "Requirement already satisfied: nltk in /opt/anaconda3/lib/python3.12/site-packages (from pysummarization) (3.9.1)\n",
      "Requirement already satisfied: click in /opt/anaconda3/lib/python3.12/site-packages (from nltk->pysummarization) (8.1.7)\n",
      "Requirement already satisfied: joblib in /opt/anaconda3/lib/python3.12/site-packages (from nltk->pysummarization) (1.4.2)\n",
      "Requirement already satisfied: regex>=2021.8.3 in /opt/anaconda3/lib/python3.12/site-packages (from nltk->pysummarization) (2024.9.11)\n",
      "Requirement already satisfied: tqdm in /opt/anaconda3/lib/python3.12/site-packages (from nltk->pysummarization) (4.66.5)\n"
     ]
    }
   ],
   "source": [
    "!pip install pydub\n",
    "!pip install nameparser\n",
    "!pip install pysummarization"
   ]
  },
  {
   "cell_type": "markdown",
   "metadata": {
    "id": "Ps_mhVHg18-F"
   },
   "source": [
    "**LIBRARIES FOR IMAGE TO TEXT CONVERSION**"
   ]
  },
  {
   "cell_type": "code",
   "execution_count": 26,
   "metadata": {
    "colab": {
     "base_uri": "https://localhost:8080/"
    },
    "id": "_ly4Vqn_sEtW",
    "outputId": "862ae307-8e59-4d76-9c54-b3bcb183eee4"
   },
   "outputs": [
    {
     "name": "stdout",
     "output_type": "stream",
     "text": [
      "Requirement already satisfied: pdf2image in /opt/anaconda3/lib/python3.12/site-packages (1.17.0)\n",
      "Requirement already satisfied: pillow in /opt/anaconda3/lib/python3.12/site-packages (from pdf2image) (10.4.0)\n",
      "\u001b[33mWarning:\u001b[0m poppler-qt5 24.11.0 is already installed and up-to-date.\n",
      "To reinstall 24.11.0, run:\n",
      "  brew reinstall poppler-qt5\n"
     ]
    }
   ],
   "source": [
    "!pip install pdf2image\n",
    "!brew install poppler-qt5"
   ]
  },
  {
   "cell_type": "markdown",
   "metadata": {
    "id": "MeFuXUmQ2CE3"
   },
   "source": [
    "*Camelot is a Python library that can help you extract tables from PDFs!*"
   ]
  },
  {
   "cell_type": "code",
   "execution_count": 28,
   "metadata": {
    "id": "MUOxldmhphRJ"
   },
   "outputs": [
    {
     "ename": "ImportError",
     "evalue": "PyO3 modules compiled for CPython 3.8 or older may only be initialized once per interpreter process",
     "output_type": "error",
     "traceback": [
      "\u001b[0;31m---------------------------------------------------------------------------\u001b[0m",
      "\u001b[0;31mImportError\u001b[0m                               Traceback (most recent call last)",
      "Cell \u001b[0;32mIn[28], line 1\u001b[0m\n\u001b[0;32m----> 1\u001b[0m \u001b[38;5;28;01mimport\u001b[39;00m \u001b[38;5;21;01mcamelot\u001b[39;00m\u001b[38;5;21;01m.\u001b[39;00m\u001b[38;5;21;01mio\u001b[39;00m \u001b[38;5;28;01mas\u001b[39;00m \u001b[38;5;21;01mcamelot\u001b[39;00m\n\u001b[1;32m      2\u001b[0m \u001b[38;5;28;01mimport\u001b[39;00m \u001b[38;5;21;01mre\u001b[39;00m\n",
      "File \u001b[0;32m/opt/anaconda3/lib/python3.12/site-packages/camelot/__init__.py:6\u001b[0m\n\u001b[1;32m      3\u001b[0m \u001b[38;5;28;01mimport\u001b[39;00m \u001b[38;5;21;01mlogging\u001b[39;00m\n\u001b[1;32m      5\u001b[0m \u001b[38;5;28;01mfrom\u001b[39;00m \u001b[38;5;21;01m.\u001b[39;00m\u001b[38;5;21;01m__version__\u001b[39;00m \u001b[38;5;28;01mimport\u001b[39;00m __version__\n\u001b[0;32m----> 6\u001b[0m \u001b[38;5;28;01mfrom\u001b[39;00m \u001b[38;5;21;01m.\u001b[39;00m\u001b[38;5;21;01mio\u001b[39;00m \u001b[38;5;28;01mimport\u001b[39;00m read_pdf\n\u001b[1;32m      7\u001b[0m \u001b[38;5;28;01mfrom\u001b[39;00m \u001b[38;5;21;01m.\u001b[39;00m\u001b[38;5;21;01mplotting\u001b[39;00m \u001b[38;5;28;01mimport\u001b[39;00m PlotMethods\n\u001b[1;32m     10\u001b[0m \u001b[38;5;66;03m# set up logging\u001b[39;00m\n",
      "File \u001b[0;32m/opt/anaconda3/lib/python3.12/site-packages/camelot/io.py:5\u001b[0m\n\u001b[1;32m      1\u001b[0m \u001b[38;5;66;03m# -*- coding: utf-8 -*-\u001b[39;00m\n\u001b[1;32m      3\u001b[0m \u001b[38;5;28;01mimport\u001b[39;00m \u001b[38;5;21;01mwarnings\u001b[39;00m\n\u001b[0;32m----> 5\u001b[0m \u001b[38;5;28;01mfrom\u001b[39;00m \u001b[38;5;21;01m.\u001b[39;00m\u001b[38;5;21;01mhandlers\u001b[39;00m \u001b[38;5;28;01mimport\u001b[39;00m PDFHandler\n\u001b[1;32m      6\u001b[0m \u001b[38;5;28;01mfrom\u001b[39;00m \u001b[38;5;21;01m.\u001b[39;00m\u001b[38;5;21;01mutils\u001b[39;00m \u001b[38;5;28;01mimport\u001b[39;00m validate_input, remove_extra\n\u001b[1;32m      9\u001b[0m \u001b[38;5;28;01mdef\u001b[39;00m \u001b[38;5;21mread_pdf\u001b[39m(\n\u001b[1;32m     10\u001b[0m     filepath,\n\u001b[1;32m     11\u001b[0m     pages\u001b[38;5;241m=\u001b[39m\u001b[38;5;124m\"\u001b[39m\u001b[38;5;124m1\u001b[39m\u001b[38;5;124m\"\u001b[39m,\n\u001b[0;32m   (...)\u001b[0m\n\u001b[1;32m     16\u001b[0m     \u001b[38;5;241m*\u001b[39m\u001b[38;5;241m*\u001b[39mkwargs\n\u001b[1;32m     17\u001b[0m ):\n",
      "File \u001b[0;32m/opt/anaconda3/lib/python3.12/site-packages/camelot/handlers.py:9\u001b[0m\n\u001b[1;32m      6\u001b[0m \u001b[38;5;28;01mfrom\u001b[39;00m \u001b[38;5;21;01mPyPDF2\u001b[39;00m \u001b[38;5;28;01mimport\u001b[39;00m PdfFileReader, PdfFileWriter\n\u001b[1;32m      8\u001b[0m \u001b[38;5;28;01mfrom\u001b[39;00m \u001b[38;5;21;01m.\u001b[39;00m\u001b[38;5;21;01mcore\u001b[39;00m \u001b[38;5;28;01mimport\u001b[39;00m TableList\n\u001b[0;32m----> 9\u001b[0m \u001b[38;5;28;01mfrom\u001b[39;00m \u001b[38;5;21;01m.\u001b[39;00m\u001b[38;5;21;01mparsers\u001b[39;00m \u001b[38;5;28;01mimport\u001b[39;00m Stream, Lattice\n\u001b[1;32m     10\u001b[0m \u001b[38;5;28;01mfrom\u001b[39;00m \u001b[38;5;21;01m.\u001b[39;00m\u001b[38;5;21;01mutils\u001b[39;00m \u001b[38;5;28;01mimport\u001b[39;00m (\n\u001b[1;32m     11\u001b[0m     TemporaryDirectory,\n\u001b[1;32m     12\u001b[0m     get_page_layout,\n\u001b[0;32m   (...)\u001b[0m\n\u001b[1;32m     16\u001b[0m     download_url,\n\u001b[1;32m     17\u001b[0m )\n\u001b[1;32m     20\u001b[0m \u001b[38;5;28;01mclass\u001b[39;00m \u001b[38;5;21;01mPDFHandler\u001b[39;00m(\u001b[38;5;28mobject\u001b[39m):\n",
      "File \u001b[0;32m/opt/anaconda3/lib/python3.12/site-packages/camelot/parsers/__init__.py:3\u001b[0m\n\u001b[1;32m      1\u001b[0m \u001b[38;5;66;03m# -*- coding: utf-8 -*-\u001b[39;00m\n\u001b[0;32m----> 3\u001b[0m \u001b[38;5;28;01mfrom\u001b[39;00m \u001b[38;5;21;01m.\u001b[39;00m\u001b[38;5;21;01mstream\u001b[39;00m \u001b[38;5;28;01mimport\u001b[39;00m Stream\n\u001b[1;32m      4\u001b[0m \u001b[38;5;28;01mfrom\u001b[39;00m \u001b[38;5;21;01m.\u001b[39;00m\u001b[38;5;21;01mlattice\u001b[39;00m \u001b[38;5;28;01mimport\u001b[39;00m Lattice\n",
      "File \u001b[0;32m/opt/anaconda3/lib/python3.12/site-packages/camelot/parsers/stream.py:10\u001b[0m\n\u001b[1;32m      7\u001b[0m \u001b[38;5;28;01mimport\u001b[39;00m \u001b[38;5;21;01mnumpy\u001b[39;00m \u001b[38;5;28;01mas\u001b[39;00m \u001b[38;5;21;01mnp\u001b[39;00m\n\u001b[1;32m      8\u001b[0m \u001b[38;5;28;01mimport\u001b[39;00m \u001b[38;5;21;01mpandas\u001b[39;00m \u001b[38;5;28;01mas\u001b[39;00m \u001b[38;5;21;01mpd\u001b[39;00m\n\u001b[0;32m---> 10\u001b[0m \u001b[38;5;28;01mfrom\u001b[39;00m \u001b[38;5;21;01m.\u001b[39;00m\u001b[38;5;21;01mbase\u001b[39;00m \u001b[38;5;28;01mimport\u001b[39;00m BaseParser\n\u001b[1;32m     11\u001b[0m \u001b[38;5;28;01mfrom\u001b[39;00m \u001b[38;5;21;01m.\u001b[39;00m\u001b[38;5;21;01m.\u001b[39;00m\u001b[38;5;21;01mcore\u001b[39;00m \u001b[38;5;28;01mimport\u001b[39;00m TextEdges, Table\n\u001b[1;32m     12\u001b[0m \u001b[38;5;28;01mfrom\u001b[39;00m \u001b[38;5;21;01m.\u001b[39;00m\u001b[38;5;21;01m.\u001b[39;00m\u001b[38;5;21;01mutils\u001b[39;00m \u001b[38;5;28;01mimport\u001b[39;00m text_in_bbox, get_table_index, compute_accuracy, compute_whitespace\n",
      "File \u001b[0;32m/opt/anaconda3/lib/python3.12/site-packages/camelot/parsers/base.py:5\u001b[0m\n\u001b[1;32m      1\u001b[0m \u001b[38;5;66;03m# -*- coding: utf-8 -*-\u001b[39;00m\n\u001b[1;32m      3\u001b[0m \u001b[38;5;28;01mimport\u001b[39;00m \u001b[38;5;21;01mos\u001b[39;00m\n\u001b[0;32m----> 5\u001b[0m \u001b[38;5;28;01mfrom\u001b[39;00m \u001b[38;5;21;01m.\u001b[39;00m\u001b[38;5;21;01m.\u001b[39;00m\u001b[38;5;21;01mutils\u001b[39;00m \u001b[38;5;28;01mimport\u001b[39;00m get_page_layout, get_text_objects\n\u001b[1;32m      8\u001b[0m \u001b[38;5;28;01mclass\u001b[39;00m \u001b[38;5;21;01mBaseParser\u001b[39;00m(\u001b[38;5;28mobject\u001b[39m):\n\u001b[1;32m      9\u001b[0m \u001b[38;5;250m    \u001b[39m\u001b[38;5;124;03m\"\"\"Defines a base parser.\"\"\"\u001b[39;00m\n",
      "File \u001b[0;32m/opt/anaconda3/lib/python3.12/site-packages/camelot/utils.py:15\u001b[0m\n\u001b[1;32m     13\u001b[0m \u001b[38;5;28;01mimport\u001b[39;00m \u001b[38;5;21;01mnumpy\u001b[39;00m \u001b[38;5;28;01mas\u001b[39;00m \u001b[38;5;21;01mnp\u001b[39;00m\n\u001b[1;32m     14\u001b[0m \u001b[38;5;28;01mfrom\u001b[39;00m \u001b[38;5;21;01mpdfminer\u001b[39;00m\u001b[38;5;21;01m.\u001b[39;00m\u001b[38;5;21;01mpdfparser\u001b[39;00m \u001b[38;5;28;01mimport\u001b[39;00m PDFParser\n\u001b[0;32m---> 15\u001b[0m \u001b[38;5;28;01mfrom\u001b[39;00m \u001b[38;5;21;01mpdfminer\u001b[39;00m\u001b[38;5;21;01m.\u001b[39;00m\u001b[38;5;21;01mpdfdocument\u001b[39;00m \u001b[38;5;28;01mimport\u001b[39;00m PDFDocument\n\u001b[1;32m     16\u001b[0m \u001b[38;5;28;01mfrom\u001b[39;00m \u001b[38;5;21;01mpdfminer\u001b[39;00m\u001b[38;5;21;01m.\u001b[39;00m\u001b[38;5;21;01mpdfpage\u001b[39;00m \u001b[38;5;28;01mimport\u001b[39;00m PDFPage\n\u001b[1;32m     17\u001b[0m \u001b[38;5;28;01mfrom\u001b[39;00m \u001b[38;5;21;01mpdfminer\u001b[39;00m\u001b[38;5;21;01m.\u001b[39;00m\u001b[38;5;21;01mpdfpage\u001b[39;00m \u001b[38;5;28;01mimport\u001b[39;00m PDFTextExtractionNotAllowed\n",
      "File \u001b[0;32m/opt/anaconda3/lib/python3.12/site-packages/pdfminer/pdfdocument.py:23\u001b[0m\n\u001b[1;32m      6\u001b[0m \u001b[38;5;28;01mfrom\u001b[39;00m \u001b[38;5;21;01mtyping\u001b[39;00m \u001b[38;5;28;01mimport\u001b[39;00m (\n\u001b[1;32m      7\u001b[0m     Any,\n\u001b[1;32m      8\u001b[0m     Callable,\n\u001b[0;32m   (...)\u001b[0m\n\u001b[1;32m     19\u001b[0m     cast,\n\u001b[1;32m     20\u001b[0m )\n\u001b[1;32m     22\u001b[0m \u001b[38;5;28;01mfrom\u001b[39;00m \u001b[38;5;21;01mcryptography\u001b[39;00m\u001b[38;5;21;01m.\u001b[39;00m\u001b[38;5;21;01mhazmat\u001b[39;00m\u001b[38;5;21;01m.\u001b[39;00m\u001b[38;5;21;01mbackends\u001b[39;00m \u001b[38;5;28;01mimport\u001b[39;00m default_backend\n\u001b[0;32m---> 23\u001b[0m \u001b[38;5;28;01mfrom\u001b[39;00m \u001b[38;5;21;01mcryptography\u001b[39;00m\u001b[38;5;21;01m.\u001b[39;00m\u001b[38;5;21;01mhazmat\u001b[39;00m\u001b[38;5;21;01m.\u001b[39;00m\u001b[38;5;21;01mprimitives\u001b[39;00m\u001b[38;5;21;01m.\u001b[39;00m\u001b[38;5;21;01mciphers\u001b[39;00m \u001b[38;5;28;01mimport\u001b[39;00m Cipher, algorithms, modes\n\u001b[1;32m     25\u001b[0m \u001b[38;5;28;01mfrom\u001b[39;00m \u001b[38;5;21;01m.\u001b[39;00m \u001b[38;5;28;01mimport\u001b[39;00m settings\n\u001b[1;32m     26\u001b[0m \u001b[38;5;28;01mfrom\u001b[39;00m \u001b[38;5;21;01m.\u001b[39;00m\u001b[38;5;21;01marcfour\u001b[39;00m \u001b[38;5;28;01mimport\u001b[39;00m Arcfour\n",
      "File \u001b[0;32m/opt/anaconda3/lib/python3.12/site-packages/cryptography/hazmat/primitives/ciphers/__init__.py:11\u001b[0m\n\u001b[1;32m      5\u001b[0m \u001b[38;5;28;01mfrom\u001b[39;00m \u001b[38;5;21;01m__future__\u001b[39;00m \u001b[38;5;28;01mimport\u001b[39;00m annotations\n\u001b[1;32m      7\u001b[0m \u001b[38;5;28;01mfrom\u001b[39;00m \u001b[38;5;21;01mcryptography\u001b[39;00m\u001b[38;5;21;01m.\u001b[39;00m\u001b[38;5;21;01mhazmat\u001b[39;00m\u001b[38;5;21;01m.\u001b[39;00m\u001b[38;5;21;01mprimitives\u001b[39;00m\u001b[38;5;21;01m.\u001b[39;00m\u001b[38;5;21;01m_cipheralgorithm\u001b[39;00m \u001b[38;5;28;01mimport\u001b[39;00m (\n\u001b[1;32m      8\u001b[0m     BlockCipherAlgorithm,\n\u001b[1;32m      9\u001b[0m     CipherAlgorithm,\n\u001b[1;32m     10\u001b[0m )\n\u001b[0;32m---> 11\u001b[0m \u001b[38;5;28;01mfrom\u001b[39;00m \u001b[38;5;21;01mcryptography\u001b[39;00m\u001b[38;5;21;01m.\u001b[39;00m\u001b[38;5;21;01mhazmat\u001b[39;00m\u001b[38;5;21;01m.\u001b[39;00m\u001b[38;5;21;01mprimitives\u001b[39;00m\u001b[38;5;21;01m.\u001b[39;00m\u001b[38;5;21;01mciphers\u001b[39;00m\u001b[38;5;21;01m.\u001b[39;00m\u001b[38;5;21;01mbase\u001b[39;00m \u001b[38;5;28;01mimport\u001b[39;00m (\n\u001b[1;32m     12\u001b[0m     AEADCipherContext,\n\u001b[1;32m     13\u001b[0m     AEADDecryptionContext,\n\u001b[1;32m     14\u001b[0m     AEADEncryptionContext,\n\u001b[1;32m     15\u001b[0m     Cipher,\n\u001b[1;32m     16\u001b[0m     CipherContext,\n\u001b[1;32m     17\u001b[0m )\n\u001b[1;32m     19\u001b[0m __all__ \u001b[38;5;241m=\u001b[39m [\n\u001b[1;32m     20\u001b[0m     \u001b[38;5;124m\"\u001b[39m\u001b[38;5;124mAEADCipherContext\u001b[39m\u001b[38;5;124m\"\u001b[39m,\n\u001b[1;32m     21\u001b[0m     \u001b[38;5;124m\"\u001b[39m\u001b[38;5;124mAEADDecryptionContext\u001b[39m\u001b[38;5;124m\"\u001b[39m,\n\u001b[0;32m   (...)\u001b[0m\n\u001b[1;32m     26\u001b[0m     \u001b[38;5;124m\"\u001b[39m\u001b[38;5;124mCipherContext\u001b[39m\u001b[38;5;124m\"\u001b[39m,\n\u001b[1;32m     27\u001b[0m ]\n",
      "File \u001b[0;32m/opt/anaconda3/lib/python3.12/site-packages/cryptography/hazmat/primitives/ciphers/base.py:10\u001b[0m\n\u001b[1;32m      7\u001b[0m \u001b[38;5;28;01mimport\u001b[39;00m \u001b[38;5;21;01mabc\u001b[39;00m\n\u001b[1;32m      8\u001b[0m \u001b[38;5;28;01mimport\u001b[39;00m \u001b[38;5;21;01mtyping\u001b[39;00m\n\u001b[0;32m---> 10\u001b[0m \u001b[38;5;28;01mfrom\u001b[39;00m \u001b[38;5;21;01mcryptography\u001b[39;00m\u001b[38;5;21;01m.\u001b[39;00m\u001b[38;5;21;01mhazmat\u001b[39;00m\u001b[38;5;21;01m.\u001b[39;00m\u001b[38;5;21;01mbindings\u001b[39;00m\u001b[38;5;21;01m.\u001b[39;00m\u001b[38;5;21;01m_rust\u001b[39;00m \u001b[38;5;28;01mimport\u001b[39;00m openssl \u001b[38;5;28;01mas\u001b[39;00m rust_openssl\n\u001b[1;32m     11\u001b[0m \u001b[38;5;28;01mfrom\u001b[39;00m \u001b[38;5;21;01mcryptography\u001b[39;00m\u001b[38;5;21;01m.\u001b[39;00m\u001b[38;5;21;01mhazmat\u001b[39;00m\u001b[38;5;21;01m.\u001b[39;00m\u001b[38;5;21;01mprimitives\u001b[39;00m\u001b[38;5;21;01m.\u001b[39;00m\u001b[38;5;21;01m_cipheralgorithm\u001b[39;00m \u001b[38;5;28;01mimport\u001b[39;00m CipherAlgorithm\n\u001b[1;32m     12\u001b[0m \u001b[38;5;28;01mfrom\u001b[39;00m \u001b[38;5;21;01mcryptography\u001b[39;00m\u001b[38;5;21;01m.\u001b[39;00m\u001b[38;5;21;01mhazmat\u001b[39;00m\u001b[38;5;21;01m.\u001b[39;00m\u001b[38;5;21;01mprimitives\u001b[39;00m\u001b[38;5;21;01m.\u001b[39;00m\u001b[38;5;21;01mciphers\u001b[39;00m \u001b[38;5;28;01mimport\u001b[39;00m modes\n",
      "\u001b[0;31mImportError\u001b[0m: PyO3 modules compiled for CPython 3.8 or older may only be initialized once per interpreter process"
     ]
    }
   ],
   "source": [
    "import camelot.io as camelot\n",
    "import re"
   ]
  },
  {
   "cell_type": "code",
   "execution_count": 16,
   "metadata": {
    "id": "zt7KTg3aold3"
   },
   "outputs": [],
   "source": [
    "import pytesseract\n",
    "import shutil\n",
    "import os\n",
    "import random\n",
    "try:\n",
    "    from PIL import Image\n",
    "except ImportError:\n",
    "    import Image"
   ]
  },
  {
   "cell_type": "code",
   "execution_count": null,
   "metadata": {
    "id": "vo8mraTWo1ex"
   },
   "outputs": [],
   "source": [
    "# from google.colab import files\n",
    "# uploaded = files.upload()"
   ]
  },
  {
   "cell_type": "markdown",
   "metadata": {
    "id": "9ASm0HB-33SN"
   },
   "source": [
    "*Extracting the text from image 'image1.jpg' using pytesseract library and then printing it*"
   ]
  },
  {
   "cell_type": "code",
   "execution_count": 18,
   "metadata": {
    "id": "_kdnD1lFopwF"
   },
   "outputs": [],
   "source": [
    "extractedInformation = pytesseract.image_to_string(Image.open('image1.jpg'))"
   ]
  },
  {
   "cell_type": "code",
   "execution_count": 20,
   "metadata": {
    "id": "tD95AjXCoste"
   },
   "outputs": [
    {
     "name": "stdout",
     "output_type": "stream",
     "text": [
      "=\n",
      "f I Medicity | ¢\n",
      "ae: | S|@©|\n",
      "U.N. Mehta Institute of Cardiology & Research Centre\n",
      "(Affiliated to BJ. Medical College, Ahmedabad)\n",
      "Civil Hospital Campus (Medicity), Asarwa, Ahmedabad-380016. Gujarat.\n",
      "Phone : (079) 22682395, 22684220, 22684200 Fax : 079-22682092\n",
      "Email : unmicrc@gmail.com Website : www-unmicrc.org\n",
      "\n",
      "Coronary Angioplasty\n",
      "\n",
      "Patient :Lalchand Sughomal Lachhani (68y 6m / Male) Patient ID : UNM-2015-08-083 152\n",
      "IPD No. : IPD/2022/02/0005003 Admission Date : 20/02/2022\n",
      "Date of Procedure : 25/02/2022 Angio No. : A-2118\n",
      "\n",
      "Time of Procedure : 17:08\n",
      "\n",
      "Primary Operator : Dr. Hasit Joshi (G-19508) Professor in Cardiology\n",
      "Secondary Operator : Dr. Riyaz Didarali Charaniya (G-29637) Assistant Professor in Cardiology\n",
      "\n",
      "Indication\n",
      "\n",
      "- Other Indications : OLD ACS,CAD, S/p PTCA to RCA(2018), P/w ACS-NSTEMI, CAD-TVD\n",
      "- PAMI: No\n",
      "\n",
      "- ACS: No\n",
      "\n",
      "Procedure & Description\n",
      "\n",
      "- Status Of Procedure : Elective -\n",
      "\n",
      "- Procedure Approach : Radial Right\n",
      "\n",
      "- Support Done : IABP Status : Unused , Procedure Time : 55 min(s) , Flouro Time : 9:19 min(s) , Radiation Dosage : 286.0\n",
      "mGy , Contrast Agent Used : Omnipaque , Contrast Volume : 150 ml\n",
      "\n",
      "- Others : No\n",
      "Target Vessel\n",
      "Vessel Mid LAD\n",
      "Angio Details Stenosis Percent : 90 %\n",
      "Lession Description : Lesion :\n",
      "De Novo\n",
      "\n",
      "Guide Catheter Used |EBU3.56F\n",
      "\n",
      "Guide Wire Used BMW 0.014 F\n",
      "Predialatation Balloon 1. Balloon Name :\n",
      "\n",
      "Details MAVERICK\n",
      "Balloon Type : PLAIN\n",
      "BALLOON\n",
      "Plain Balloon : SEMI\n",
      "COMPLIANT\n",
      "Diameter : 2\n",
      "Lenght : 12\n",
      "Max Pressure : 10.0 atm\n",
      "Stent Details 1. Stent Name : XIENCE\n",
      "PRIME LL\n",
      "Stent Type : Drug Elluting\n",
      "Stent - Everolimus\n",
      "Diameter : 2.5\n",
      "Lenght : 38\n",
      "Time : 10\n",
      "Max Pressure : 12 atm\n",
      "Postdialatation Balloon |1. Balloon Name : Q APEX\n",
      "Details Balloon Type : PLAIN\n",
      "\n",
      "BALLOON\n",
      "Diameter : 2.75\n",
      "Lenght : 12\n",
      "Max Pressure : 14.0 atm\n",
      "\n",
      "Procedure Reveals\n",
      "\n",
      "unmicrc/MRD/Rep-A/02/rev-02 1-Aug-17\n",
      "\n"
     ]
    }
   ],
   "source": [
    "print(extractedInformation)"
   ]
  },
  {
   "cell_type": "markdown",
   "metadata": {
    "id": "wt9hwXII3839"
   },
   "source": [
    "# FORMATTING THE TEXT FROM IMAGE"
   ]
  },
  {
   "cell_type": "markdown",
   "metadata": {
    "id": "X2UVO7MN39sC"
   },
   "source": [
    "*NLTK (Natural Language Toolkit) Library is a suite that contains libraries and programs for statistical language processing. It is one of the most powerful NLP libraries, which contains packages to make machines understand human language and reply to it with an appropriate response.*"
   ]
  },
  {
   "cell_type": "code",
   "execution_count": 22,
   "metadata": {
    "id": "fvFeR3Kc1KKl"
   },
   "outputs": [
    {
     "name": "stdout",
     "output_type": "stream",
     "text": [
      "['Stent', 'Name', ':', 'XIENCE', 'PRIME', 'LL', 'Stent', 'Type', ':', 'Drug', 'Elluting', 'Stent', '-', 'Everolimus', 'Diameter', ':', '2.5', 'Lenght', ':', '38', 'Time', ':', '10', 'Max', 'Pressure', ':', '12', 'atm', 'Postdialatation', 'Balloon', '|1', '.']\n"
     ]
    },
    {
     "name": "stderr",
     "output_type": "stream",
     "text": [
      "[nltk_data] Downloading package stopwords to\n",
      "[nltk_data]     /Users/virajpatel/nltk_data...\n",
      "[nltk_data]   Package stopwords is already up-to-date!\n",
      "[nltk_data] Downloading package punkt to\n",
      "[nltk_data]     /Users/virajpatel/nltk_data...\n",
      "[nltk_data]   Package punkt is already up-to-date!\n"
     ]
    }
   ],
   "source": [
    "import nltk\n",
    "nltk.download('stopwords')\n",
    "nltk.download('punkt')\n",
    "from nltk.tokenize import sent_tokenize, word_tokenize\n",
    "from nltk.corpus import stopwords\n",
    "import re\n",
    " \n",
    "stopWords = set(stopwords.words('english'))\n",
    "sent = sent_tokenize(extractedInformation)\n",
    "wordsFiltered=[]\n",
    "for w in sent:\n",
    "  wordsFiltered.append(w)\n",
    "word=[]\n",
    "patterns = \"Drug\"\n",
    "for w in wordsFiltered:\n",
    "  x= word_tokenize(w)\n",
    "  for i in x:\n",
    "    if re.match(patterns,i):\n",
    "      print(x)"
   ]
  },
  {
   "cell_type": "markdown",
   "metadata": {
    "id": "bCEc-Fsc5VKU"
   },
   "source": [
    "CONVERTING TO DATAFRAME"
   ]
  },
  {
   "cell_type": "code",
   "execution_count": 24,
   "metadata": {
    "id": "GwI9ycdqhHnP"
   },
   "outputs": [
    {
     "ename": "ImportError",
     "evalue": "PyO3 modules compiled for CPython 3.8 or older may only be initialized once per interpreter process",
     "output_type": "error",
     "traceback": [
      "\u001b[0;31m---------------------------------------------------------------------------\u001b[0m",
      "\u001b[0;31mImportError\u001b[0m                               Traceback (most recent call last)",
      "Cell \u001b[0;32mIn[24], line 1\u001b[0m\n\u001b[0;32m----> 1\u001b[0m \u001b[38;5;28;01mimport\u001b[39;00m \u001b[38;5;21;01mcamelot\u001b[39;00m \n\u001b[1;32m      2\u001b[0m \u001b[38;5;28;01mimport\u001b[39;00m \u001b[38;5;21;01mpandas\u001b[39;00m \u001b[38;5;28;01mas\u001b[39;00m \u001b[38;5;21;01mpd\u001b[39;00m\n\u001b[1;32m      3\u001b[0m tables \u001b[38;5;241m=\u001b[39m camelot\u001b[38;5;241m.\u001b[39mread_pdf(\u001b[38;5;124m'\u001b[39m\u001b[38;5;124mCoronary Angioplasty.pdf\u001b[39m\u001b[38;5;124m'\u001b[39m)\n",
      "File \u001b[0;32m/opt/anaconda3/lib/python3.12/site-packages/camelot/__init__.py:6\u001b[0m\n\u001b[1;32m      3\u001b[0m \u001b[38;5;28;01mimport\u001b[39;00m \u001b[38;5;21;01mlogging\u001b[39;00m\n\u001b[1;32m      5\u001b[0m \u001b[38;5;28;01mfrom\u001b[39;00m \u001b[38;5;21;01m.\u001b[39;00m\u001b[38;5;21;01m__version__\u001b[39;00m \u001b[38;5;28;01mimport\u001b[39;00m __version__\n\u001b[0;32m----> 6\u001b[0m \u001b[38;5;28;01mfrom\u001b[39;00m \u001b[38;5;21;01m.\u001b[39;00m\u001b[38;5;21;01mio\u001b[39;00m \u001b[38;5;28;01mimport\u001b[39;00m read_pdf\n\u001b[1;32m      7\u001b[0m \u001b[38;5;28;01mfrom\u001b[39;00m \u001b[38;5;21;01m.\u001b[39;00m\u001b[38;5;21;01mplotting\u001b[39;00m \u001b[38;5;28;01mimport\u001b[39;00m PlotMethods\n\u001b[1;32m     10\u001b[0m \u001b[38;5;66;03m# set up logging\u001b[39;00m\n",
      "File \u001b[0;32m/opt/anaconda3/lib/python3.12/site-packages/camelot/io.py:5\u001b[0m\n\u001b[1;32m      1\u001b[0m \u001b[38;5;66;03m# -*- coding: utf-8 -*-\u001b[39;00m\n\u001b[1;32m      3\u001b[0m \u001b[38;5;28;01mimport\u001b[39;00m \u001b[38;5;21;01mwarnings\u001b[39;00m\n\u001b[0;32m----> 5\u001b[0m \u001b[38;5;28;01mfrom\u001b[39;00m \u001b[38;5;21;01m.\u001b[39;00m\u001b[38;5;21;01mhandlers\u001b[39;00m \u001b[38;5;28;01mimport\u001b[39;00m PDFHandler\n\u001b[1;32m      6\u001b[0m \u001b[38;5;28;01mfrom\u001b[39;00m \u001b[38;5;21;01m.\u001b[39;00m\u001b[38;5;21;01mutils\u001b[39;00m \u001b[38;5;28;01mimport\u001b[39;00m validate_input, remove_extra\n\u001b[1;32m      9\u001b[0m \u001b[38;5;28;01mdef\u001b[39;00m \u001b[38;5;21mread_pdf\u001b[39m(\n\u001b[1;32m     10\u001b[0m     filepath,\n\u001b[1;32m     11\u001b[0m     pages\u001b[38;5;241m=\u001b[39m\u001b[38;5;124m\"\u001b[39m\u001b[38;5;124m1\u001b[39m\u001b[38;5;124m\"\u001b[39m,\n\u001b[0;32m   (...)\u001b[0m\n\u001b[1;32m     16\u001b[0m     \u001b[38;5;241m*\u001b[39m\u001b[38;5;241m*\u001b[39mkwargs\n\u001b[1;32m     17\u001b[0m ):\n",
      "File \u001b[0;32m/opt/anaconda3/lib/python3.12/site-packages/camelot/handlers.py:9\u001b[0m\n\u001b[1;32m      6\u001b[0m \u001b[38;5;28;01mfrom\u001b[39;00m \u001b[38;5;21;01mPyPDF2\u001b[39;00m \u001b[38;5;28;01mimport\u001b[39;00m PdfFileReader, PdfFileWriter\n\u001b[1;32m      8\u001b[0m \u001b[38;5;28;01mfrom\u001b[39;00m \u001b[38;5;21;01m.\u001b[39;00m\u001b[38;5;21;01mcore\u001b[39;00m \u001b[38;5;28;01mimport\u001b[39;00m TableList\n\u001b[0;32m----> 9\u001b[0m \u001b[38;5;28;01mfrom\u001b[39;00m \u001b[38;5;21;01m.\u001b[39;00m\u001b[38;5;21;01mparsers\u001b[39;00m \u001b[38;5;28;01mimport\u001b[39;00m Stream, Lattice\n\u001b[1;32m     10\u001b[0m \u001b[38;5;28;01mfrom\u001b[39;00m \u001b[38;5;21;01m.\u001b[39;00m\u001b[38;5;21;01mutils\u001b[39;00m \u001b[38;5;28;01mimport\u001b[39;00m (\n\u001b[1;32m     11\u001b[0m     TemporaryDirectory,\n\u001b[1;32m     12\u001b[0m     get_page_layout,\n\u001b[0;32m   (...)\u001b[0m\n\u001b[1;32m     16\u001b[0m     download_url,\n\u001b[1;32m     17\u001b[0m )\n\u001b[1;32m     20\u001b[0m \u001b[38;5;28;01mclass\u001b[39;00m \u001b[38;5;21;01mPDFHandler\u001b[39;00m(\u001b[38;5;28mobject\u001b[39m):\n",
      "File \u001b[0;32m/opt/anaconda3/lib/python3.12/site-packages/camelot/parsers/__init__.py:3\u001b[0m\n\u001b[1;32m      1\u001b[0m \u001b[38;5;66;03m# -*- coding: utf-8 -*-\u001b[39;00m\n\u001b[0;32m----> 3\u001b[0m \u001b[38;5;28;01mfrom\u001b[39;00m \u001b[38;5;21;01m.\u001b[39;00m\u001b[38;5;21;01mstream\u001b[39;00m \u001b[38;5;28;01mimport\u001b[39;00m Stream\n\u001b[1;32m      4\u001b[0m \u001b[38;5;28;01mfrom\u001b[39;00m \u001b[38;5;21;01m.\u001b[39;00m\u001b[38;5;21;01mlattice\u001b[39;00m \u001b[38;5;28;01mimport\u001b[39;00m Lattice\n",
      "File \u001b[0;32m/opt/anaconda3/lib/python3.12/site-packages/camelot/parsers/stream.py:10\u001b[0m\n\u001b[1;32m      7\u001b[0m \u001b[38;5;28;01mimport\u001b[39;00m \u001b[38;5;21;01mnumpy\u001b[39;00m \u001b[38;5;28;01mas\u001b[39;00m \u001b[38;5;21;01mnp\u001b[39;00m\n\u001b[1;32m      8\u001b[0m \u001b[38;5;28;01mimport\u001b[39;00m \u001b[38;5;21;01mpandas\u001b[39;00m \u001b[38;5;28;01mas\u001b[39;00m \u001b[38;5;21;01mpd\u001b[39;00m\n\u001b[0;32m---> 10\u001b[0m \u001b[38;5;28;01mfrom\u001b[39;00m \u001b[38;5;21;01m.\u001b[39;00m\u001b[38;5;21;01mbase\u001b[39;00m \u001b[38;5;28;01mimport\u001b[39;00m BaseParser\n\u001b[1;32m     11\u001b[0m \u001b[38;5;28;01mfrom\u001b[39;00m \u001b[38;5;21;01m.\u001b[39;00m\u001b[38;5;21;01m.\u001b[39;00m\u001b[38;5;21;01mcore\u001b[39;00m \u001b[38;5;28;01mimport\u001b[39;00m TextEdges, Table\n\u001b[1;32m     12\u001b[0m \u001b[38;5;28;01mfrom\u001b[39;00m \u001b[38;5;21;01m.\u001b[39;00m\u001b[38;5;21;01m.\u001b[39;00m\u001b[38;5;21;01mutils\u001b[39;00m \u001b[38;5;28;01mimport\u001b[39;00m text_in_bbox, get_table_index, compute_accuracy, compute_whitespace\n",
      "File \u001b[0;32m/opt/anaconda3/lib/python3.12/site-packages/camelot/parsers/base.py:5\u001b[0m\n\u001b[1;32m      1\u001b[0m \u001b[38;5;66;03m# -*- coding: utf-8 -*-\u001b[39;00m\n\u001b[1;32m      3\u001b[0m \u001b[38;5;28;01mimport\u001b[39;00m \u001b[38;5;21;01mos\u001b[39;00m\n\u001b[0;32m----> 5\u001b[0m \u001b[38;5;28;01mfrom\u001b[39;00m \u001b[38;5;21;01m.\u001b[39;00m\u001b[38;5;21;01m.\u001b[39;00m\u001b[38;5;21;01mutils\u001b[39;00m \u001b[38;5;28;01mimport\u001b[39;00m get_page_layout, get_text_objects\n\u001b[1;32m      8\u001b[0m \u001b[38;5;28;01mclass\u001b[39;00m \u001b[38;5;21;01mBaseParser\u001b[39;00m(\u001b[38;5;28mobject\u001b[39m):\n\u001b[1;32m      9\u001b[0m \u001b[38;5;250m    \u001b[39m\u001b[38;5;124;03m\"\"\"Defines a base parser.\"\"\"\u001b[39;00m\n",
      "File \u001b[0;32m/opt/anaconda3/lib/python3.12/site-packages/camelot/utils.py:15\u001b[0m\n\u001b[1;32m     13\u001b[0m \u001b[38;5;28;01mimport\u001b[39;00m \u001b[38;5;21;01mnumpy\u001b[39;00m \u001b[38;5;28;01mas\u001b[39;00m \u001b[38;5;21;01mnp\u001b[39;00m\n\u001b[1;32m     14\u001b[0m \u001b[38;5;28;01mfrom\u001b[39;00m \u001b[38;5;21;01mpdfminer\u001b[39;00m\u001b[38;5;21;01m.\u001b[39;00m\u001b[38;5;21;01mpdfparser\u001b[39;00m \u001b[38;5;28;01mimport\u001b[39;00m PDFParser\n\u001b[0;32m---> 15\u001b[0m \u001b[38;5;28;01mfrom\u001b[39;00m \u001b[38;5;21;01mpdfminer\u001b[39;00m\u001b[38;5;21;01m.\u001b[39;00m\u001b[38;5;21;01mpdfdocument\u001b[39;00m \u001b[38;5;28;01mimport\u001b[39;00m PDFDocument\n\u001b[1;32m     16\u001b[0m \u001b[38;5;28;01mfrom\u001b[39;00m \u001b[38;5;21;01mpdfminer\u001b[39;00m\u001b[38;5;21;01m.\u001b[39;00m\u001b[38;5;21;01mpdfpage\u001b[39;00m \u001b[38;5;28;01mimport\u001b[39;00m PDFPage\n\u001b[1;32m     17\u001b[0m \u001b[38;5;28;01mfrom\u001b[39;00m \u001b[38;5;21;01mpdfminer\u001b[39;00m\u001b[38;5;21;01m.\u001b[39;00m\u001b[38;5;21;01mpdfpage\u001b[39;00m \u001b[38;5;28;01mimport\u001b[39;00m PDFTextExtractionNotAllowed\n",
      "File \u001b[0;32m/opt/anaconda3/lib/python3.12/site-packages/pdfminer/pdfdocument.py:23\u001b[0m\n\u001b[1;32m      6\u001b[0m \u001b[38;5;28;01mfrom\u001b[39;00m \u001b[38;5;21;01mtyping\u001b[39;00m \u001b[38;5;28;01mimport\u001b[39;00m (\n\u001b[1;32m      7\u001b[0m     Any,\n\u001b[1;32m      8\u001b[0m     Callable,\n\u001b[0;32m   (...)\u001b[0m\n\u001b[1;32m     19\u001b[0m     cast,\n\u001b[1;32m     20\u001b[0m )\n\u001b[1;32m     22\u001b[0m \u001b[38;5;28;01mfrom\u001b[39;00m \u001b[38;5;21;01mcryptography\u001b[39;00m\u001b[38;5;21;01m.\u001b[39;00m\u001b[38;5;21;01mhazmat\u001b[39;00m\u001b[38;5;21;01m.\u001b[39;00m\u001b[38;5;21;01mbackends\u001b[39;00m \u001b[38;5;28;01mimport\u001b[39;00m default_backend\n\u001b[0;32m---> 23\u001b[0m \u001b[38;5;28;01mfrom\u001b[39;00m \u001b[38;5;21;01mcryptography\u001b[39;00m\u001b[38;5;21;01m.\u001b[39;00m\u001b[38;5;21;01mhazmat\u001b[39;00m\u001b[38;5;21;01m.\u001b[39;00m\u001b[38;5;21;01mprimitives\u001b[39;00m\u001b[38;5;21;01m.\u001b[39;00m\u001b[38;5;21;01mciphers\u001b[39;00m \u001b[38;5;28;01mimport\u001b[39;00m Cipher, algorithms, modes\n\u001b[1;32m     25\u001b[0m \u001b[38;5;28;01mfrom\u001b[39;00m \u001b[38;5;21;01m.\u001b[39;00m \u001b[38;5;28;01mimport\u001b[39;00m settings\n\u001b[1;32m     26\u001b[0m \u001b[38;5;28;01mfrom\u001b[39;00m \u001b[38;5;21;01m.\u001b[39;00m\u001b[38;5;21;01marcfour\u001b[39;00m \u001b[38;5;28;01mimport\u001b[39;00m Arcfour\n",
      "File \u001b[0;32m/opt/anaconda3/lib/python3.12/site-packages/cryptography/hazmat/primitives/ciphers/__init__.py:11\u001b[0m\n\u001b[1;32m      5\u001b[0m \u001b[38;5;28;01mfrom\u001b[39;00m \u001b[38;5;21;01m__future__\u001b[39;00m \u001b[38;5;28;01mimport\u001b[39;00m annotations\n\u001b[1;32m      7\u001b[0m \u001b[38;5;28;01mfrom\u001b[39;00m \u001b[38;5;21;01mcryptography\u001b[39;00m\u001b[38;5;21;01m.\u001b[39;00m\u001b[38;5;21;01mhazmat\u001b[39;00m\u001b[38;5;21;01m.\u001b[39;00m\u001b[38;5;21;01mprimitives\u001b[39;00m\u001b[38;5;21;01m.\u001b[39;00m\u001b[38;5;21;01m_cipheralgorithm\u001b[39;00m \u001b[38;5;28;01mimport\u001b[39;00m (\n\u001b[1;32m      8\u001b[0m     BlockCipherAlgorithm,\n\u001b[1;32m      9\u001b[0m     CipherAlgorithm,\n\u001b[1;32m     10\u001b[0m )\n\u001b[0;32m---> 11\u001b[0m \u001b[38;5;28;01mfrom\u001b[39;00m \u001b[38;5;21;01mcryptography\u001b[39;00m\u001b[38;5;21;01m.\u001b[39;00m\u001b[38;5;21;01mhazmat\u001b[39;00m\u001b[38;5;21;01m.\u001b[39;00m\u001b[38;5;21;01mprimitives\u001b[39;00m\u001b[38;5;21;01m.\u001b[39;00m\u001b[38;5;21;01mciphers\u001b[39;00m\u001b[38;5;21;01m.\u001b[39;00m\u001b[38;5;21;01mbase\u001b[39;00m \u001b[38;5;28;01mimport\u001b[39;00m (\n\u001b[1;32m     12\u001b[0m     AEADCipherContext,\n\u001b[1;32m     13\u001b[0m     AEADDecryptionContext,\n\u001b[1;32m     14\u001b[0m     AEADEncryptionContext,\n\u001b[1;32m     15\u001b[0m     Cipher,\n\u001b[1;32m     16\u001b[0m     CipherContext,\n\u001b[1;32m     17\u001b[0m )\n\u001b[1;32m     19\u001b[0m __all__ \u001b[38;5;241m=\u001b[39m [\n\u001b[1;32m     20\u001b[0m     \u001b[38;5;124m\"\u001b[39m\u001b[38;5;124mAEADCipherContext\u001b[39m\u001b[38;5;124m\"\u001b[39m,\n\u001b[1;32m     21\u001b[0m     \u001b[38;5;124m\"\u001b[39m\u001b[38;5;124mAEADDecryptionContext\u001b[39m\u001b[38;5;124m\"\u001b[39m,\n\u001b[0;32m   (...)\u001b[0m\n\u001b[1;32m     26\u001b[0m     \u001b[38;5;124m\"\u001b[39m\u001b[38;5;124mCipherContext\u001b[39m\u001b[38;5;124m\"\u001b[39m,\n\u001b[1;32m     27\u001b[0m ]\n",
      "File \u001b[0;32m/opt/anaconda3/lib/python3.12/site-packages/cryptography/hazmat/primitives/ciphers/base.py:10\u001b[0m\n\u001b[1;32m      7\u001b[0m \u001b[38;5;28;01mimport\u001b[39;00m \u001b[38;5;21;01mabc\u001b[39;00m\n\u001b[1;32m      8\u001b[0m \u001b[38;5;28;01mimport\u001b[39;00m \u001b[38;5;21;01mtyping\u001b[39;00m\n\u001b[0;32m---> 10\u001b[0m \u001b[38;5;28;01mfrom\u001b[39;00m \u001b[38;5;21;01mcryptography\u001b[39;00m\u001b[38;5;21;01m.\u001b[39;00m\u001b[38;5;21;01mhazmat\u001b[39;00m\u001b[38;5;21;01m.\u001b[39;00m\u001b[38;5;21;01mbindings\u001b[39;00m\u001b[38;5;21;01m.\u001b[39;00m\u001b[38;5;21;01m_rust\u001b[39;00m \u001b[38;5;28;01mimport\u001b[39;00m openssl \u001b[38;5;28;01mas\u001b[39;00m rust_openssl\n\u001b[1;32m     11\u001b[0m \u001b[38;5;28;01mfrom\u001b[39;00m \u001b[38;5;21;01mcryptography\u001b[39;00m\u001b[38;5;21;01m.\u001b[39;00m\u001b[38;5;21;01mhazmat\u001b[39;00m\u001b[38;5;21;01m.\u001b[39;00m\u001b[38;5;21;01mprimitives\u001b[39;00m\u001b[38;5;21;01m.\u001b[39;00m\u001b[38;5;21;01m_cipheralgorithm\u001b[39;00m \u001b[38;5;28;01mimport\u001b[39;00m CipherAlgorithm\n\u001b[1;32m     12\u001b[0m \u001b[38;5;28;01mfrom\u001b[39;00m \u001b[38;5;21;01mcryptography\u001b[39;00m\u001b[38;5;21;01m.\u001b[39;00m\u001b[38;5;21;01mhazmat\u001b[39;00m\u001b[38;5;21;01m.\u001b[39;00m\u001b[38;5;21;01mprimitives\u001b[39;00m\u001b[38;5;21;01m.\u001b[39;00m\u001b[38;5;21;01mciphers\u001b[39;00m \u001b[38;5;28;01mimport\u001b[39;00m modes\n",
      "\u001b[0;31mImportError\u001b[0m: PyO3 modules compiled for CPython 3.8 or older may only be initialized once per interpreter process"
     ]
    }
   ],
   "source": [
    "import camelot \n",
    "import pandas as pd\n",
    "tables = camelot.read_pdf('Coronary Angioplasty.pdf')\n",
    "\n",
    "#tables[0].to_csv('camelot.csv')\n",
    "#print(len(tables))\n",
    "tables[0].df"
   ]
  },
  {
   "cell_type": "markdown",
   "metadata": {
    "id": "QoBlMxva5YRi"
   },
   "source": [
    "*spaCy  is a free, open-source library for advanced Natural Language Processing (NLP) in Python.**spaCy** is designed specifically for production use and helps you build applications that process and “understand” large volumes of text. It can be used to build information extraction or natural language understanding systems, or to pre-process text for deep learning.*"
   ]
  },
  {
   "cell_type": "code",
   "execution_count": null,
   "metadata": {
    "colab": {
     "base_uri": "https://localhost:8080/",
     "height": 191
    },
    "id": "yJ2X0ZBHso-f",
    "outputId": "cef1eed5-f718-443c-982e-f133fec199b5"
   },
   "outputs": [
    {
     "data": {
      "text/html": [
       "<span class=\"tex2jax_ignore\"><div class=\"entities\" style=\"line-height: 2.5; direction: ltr\">A patient was prescribed \n",
       "<mark class=\"entity\" style=\"background: #3cb44b; padding: 0.45em 0.6em; margin: 0 0.25em; line-height: 1; border-radius: 0.35em;\">\n",
       "    Magnesium hydroxide\n",
       "    <span style=\"font-size: 0.8em; font-weight: bold; line-height: 1; border-radius: 0.35em; vertical-align: middle; margin-left: 0.5rem\">DRUG</span>\n",
       "</mark>\n",
       " 400mg/5ml \n",
       "<mark class=\"entity\" style=\"background: #ffd8b1; padding: 0.45em 0.6em; margin: 0 0.25em; line-height: 1; border-radius: 0.35em;\">\n",
       "    suspension\n",
       "    <span style=\"font-size: 0.8em; font-weight: bold; line-height: 1; border-radius: 0.35em; vertical-align: middle; margin-left: 0.5rem\">FORM</span>\n",
       "</mark>\n",
       " \n",
       "<mark class=\"entity\" style=\"background: #f032e6; padding: 0.45em 0.6em; margin: 0 0.25em; line-height: 1; border-radius: 0.35em;\">\n",
       "    PO\n",
       "    <span style=\"font-size: 0.8em; font-weight: bold; line-height: 1; border-radius: 0.35em; vertical-align: middle; margin-left: 0.5rem\">ROUTE</span>\n",
       "</mark>\n",
       " of total \n",
       "<mark class=\"entity\" style=\"background: #e6194B; padding: 0.45em 0.6em; margin: 0 0.25em; line-height: 1; border-radius: 0.35em;\">\n",
       "    30ml\n",
       "    <span style=\"font-size: 0.8em; font-weight: bold; line-height: 1; border-radius: 0.35em; vertical-align: middle; margin-left: 0.5rem\">DOSAGE</span>\n",
       "</mark>\n",
       " \n",
       "<mark class=\"entity\" style=\"background: #f58231; padding: 0.45em 0.6em; margin: 0 0.25em; line-height: 1; border-radius: 0.35em;\">\n",
       "    bid\n",
       "    <span style=\"font-size: 0.8em; font-weight: bold; line-height: 1; border-radius: 0.35em; vertical-align: middle; margin-left: 0.5rem\">FREQUENCY</span>\n",
       "</mark>\n",
       " \n",
       "<mark class=\"entity\" style=\"background: #ffe119; padding: 0.45em 0.6em; margin: 0 0.25em; line-height: 1; border-radius: 0.35em;\">\n",
       "    for the\n",
       "    <span style=\"font-size: 0.8em; font-weight: bold; line-height: 1; border-radius: 0.35em; vertical-align: middle; margin-left: 0.5rem\">DURATION</span>\n",
       "</mark>\n",
       " next 5 days.</div></span>"
      ],
      "text/plain": [
       "<IPython.core.display.HTML object>"
      ]
     },
     "metadata": {},
     "output_type": "display_data"
    },
    {
     "data": {
      "text/plain": [
       "[('Magnesium hydroxide', 'DRUG'),\n",
       " ('suspension', 'FORM'),\n",
       " ('PO', 'ROUTE'),\n",
       " ('30ml', 'DOSAGE'),\n",
       " ('bid', 'FREQUENCY'),\n",
       " ('for the', 'DURATION')]"
      ]
     },
     "execution_count": 78,
     "metadata": {},
     "output_type": "execute_result"
    }
   ],
   "source": [
    "import spacy\n",
    "\n",
    "med7 = spacy.load(\"en_core_med7_lg\")\n",
    "\n",
    "# create distinct colours for labels\n",
    "col_dict = {}\n",
    "seven_colours = ['#e6194B', '#3cb44b', '#ffe119', '#ffd8b1', '#f58231', '#f032e6', '#42d4f4']\n",
    "for label, colour in zip(med7.pipe_labels['ner'], seven_colours):\n",
    "    col_dict[label] = colour\n",
    "\n",
    "options = {'ents': med7.pipe_labels['ner'], 'colors':col_dict}\n",
    "\n",
    "text = 'A patient was prescribed Magnesium hydroxide 400mg/5ml suspension PO of total 30ml bid for the next 5 days.'\n",
    "doc = med7(text)\n",
    "\n",
    "spacy.displacy.render(doc, style='ent', jupyter=True, options=options)\n",
    "\n",
    "[(ent.text, ent.label_) for ent in doc.ents]"
   ]
  },
  {
   "cell_type": "code",
   "execution_count": null,
   "metadata": {
    "id": "YOAdt0ManL-J"
   },
   "outputs": [],
   "source": [
    "import tabula\n",
    "dataframe = tabula.read_pdf('Coronary Angioplasty.pdf',pages=\"all\")\n",
    "dataframe"
   ]
  },
  {
   "cell_type": "markdown",
   "metadata": {
    "id": "CUfljK8P5dXi"
   },
   "source": [
    "# EXTRACTING INFORMATION FROM TEXT FILE"
   ]
  },
  {
   "cell_type": "markdown",
   "metadata": {
    "id": "UEh5pq7T5ea7"
   },
   "source": [
    "**'find_next' function uses regex expressions to search and extract different generalized information from the extracted text file**"
   ]
  },
  {
   "cell_type": "code",
   "execution_count": null,
   "metadata": {
    "id": "ZF_xlUYq_4UU"
   },
   "outputs": [],
   "source": [
    "def find_next(words,data):\n",
    "  text=\"\"\n",
    "  for word in words:\n",
    "    if(words[0].lower()=='age'):\n",
    "     text=re.search('\\d+(?=[\\s]?y | year)',data.lower())\n",
    "    if(text):\n",
    "      break\n",
    "    text=re.search('(?<='+word.lower()+' : )(\\S*)',data.lower())\n",
    "    if(text):\n",
    "      break\n",
    "  return text"
   ]
  },
  {
   "cell_type": "code",
   "execution_count": null,
   "metadata": {
    "id": "SMx0Rd4FAD-l"
   },
   "outputs": [],
   "source": [
    "from pdf2image import convert_from_path\n",
    "def extract_pdf2img(path):\n",
    "  images = convert_from_path(path)\n",
    "  for i in range(len(images)):\n",
    "    images[i].save('page'+ str(i) +'.jpg', 'JPEG')\n",
    "  return images\n"
   ]
  },
  {
   "cell_type": "code",
   "execution_count": null,
   "metadata": {
    "id": "VBiqM1g1tJyw"
   },
   "outputs": [],
   "source": [
    "images=extract_pdf2img('/content/Coronary Angioplasty.pdf')"
   ]
  },
  {
   "cell_type": "code",
   "execution_count": null,
   "metadata": {
    "id": "L1BQ2bdGuXEL"
   },
   "outputs": [],
   "source": [
    "all_text_data=[]\n",
    "file = open('report.txt','w')\n",
    "for i in range(len(images)):\n",
    "  extractedInformation = pytesseract.image_to_string(Image.open('/content/page'+str(i)+'.jpg'))\n",
    "  sent = sent_tokenize(extractedInformation)\n",
    "  wordsFiltered=[]\n",
    "  for w in sent:\n",
    "    file.write(w)\n",
    "# all_text_data\\\n",
    "file.close()"
   ]
  },
  {
   "cell_type": "code",
   "execution_count": null,
   "metadata": {
    "id": "e1Sn4u3y5Ibo"
   },
   "outputs": [],
   "source": [
    "\n",
    "# def find_next(words,data):\n",
    "  # for word in words:\n",
    "data='''\n",
    "Coronary Angiography\n",
    "\n",
    "Patient :Lalchand Sughomal Lachhani (68y 6m/ Male) _ Patient ID : UNM-2015-08-083152\n",
    "IPD No. : IPD/2022/02/0005003 Admission Date : 20/02/2022\n",
    "\n",
    "Date of Procedure : 23/02/2022 Angio No. : D-42737\n",
    "\n",
    "Time of Procedure : 08:23\n",
    "\n",
    "Primary Operator : Dr. Hasit Joshi (G-19508) Professor in Cardiology\n",
    "Secondary Operator : Dr. Riyaz Didarali Charaniya (G-29637) Assistant Professor in Cardiology\n",
    "\n",
    " \n",
    "\n",
    "Indication\n",
    "\n",
    "- Ischemic Heart Disease Type : CSA\n",
    "\n",
    "- PAMI: No\n",
    "\n",
    "- ACS: No\n",
    "\n",
    "Procedure & Description\n",
    "\n",
    "- Procedure Type : Coronary Angiography\n",
    "\n",
    "- Status of Procedure : Elective , Procedure Approach : Radial - Left\n",
    "\n",
    "- Diagnostic Catheter : Left Coronary TIGER 5F ,Right Coronary TIGER 5F ,Guide wire Non-hydrophilic 03 5,Contrast\n",
    "Agent Nonionic Low-osmolar,Contrast Volume 100 ml\n",
    "\n",
    "- Anesthesia used : LOCAL\n",
    "- Total Radiation Dose at Source : 219.0 mGy\n",
    "\n",
    "Peripheral Stenosis\n",
    "\n",
    "Coronary Anatomy\n",
    "\n",
    "- Extent of Disease : Triple Vessel, Dominance : Right\n",
    "LMCA | LMCA,Detail : Normal\n",
    "\n",
    "Mid LAD, Stenosis Severity : 90 %,\n",
    "\n",
    "Proximal LAD,Detail : Plaque\n",
    "\n",
    "Distal Circumflex,Stenosis Severity : 80 %,\n",
    "RCA | Distal RCA,Lesion's Remarks: IN STENT- 70%\n",
    "\n",
    " \n",
    "\n",
    "LAD\n",
    "\n",
    " \n",
    "\n",
    " \n",
    "\n",
    " \n",
    "\n",
    "Final Diagnosis\n",
    "- OLD ACS, HTN, CAD-TVD, WITH RIGHT RENAL ARTERY, S/P PTCA TO RIGHT PTRA (27/11/2011), S/P\n",
    "PCI TO RCA (INTEGRITY 27/11/2015)(2.75x18), P/W ACS NSTEMI,\n",
    "- LV Function : Severe LVD\n",
    "- TVD : Yes\n",
    "\n",
    "- Remarks : RIGHT RENAL - 50% ISR IN STENT, LEFT RENAL- 60% STENOSIS\n",
    "\n",
    "Advice :\n",
    "PTCA TO LAD & RCA\n",
    "\n",
    "Dr. Hasit Joshi (G-19508) Professor in Cardiology :\n",
    "\n",
    " \n",
    "\n",
    "Dr. Riyaz Didarali Charaniya (G-29637) Assistant Professor in Cardiology :\n",
    "\n",
    " \n",
    "\n",
    "Generated By : Jayshree S. Sanchaniya\n",
    "\n",
    "unmicrc/MRD/Rep-A/02/rev-02 1-Aug-17\n",
    "\f",
    "\n",
    " \n",
    "\n",
    "Patient :Lalchand Sughomal Lachhani (68y 6m / Male) Patient ID : UNM-2015-08-083 152\n",
    "IPD No: IPD/2022/02/0005003 Admission Date : 20/02/2022\n",
    "\n",
    "Date of Procedure : 23/02/2022 Angio No. : D-42737\n",
    "\n",
    "Time of Procedure : 08:23\n",
    "\n",
    " \n",
    "\n",
    "unmicrc/MRD/Rep-A/02/rev-02 1-Aug-17\n",
    "'''\n",
    "# "
   ]
  },
  {
   "cell_type": "code",
   "execution_count": null,
   "metadata": {
    "id": "00q4u9OekZ8s"
   },
   "outputs": [],
   "source": []
  },
  {
   "cell_type": "code",
   "execution_count": null,
   "metadata": {
    "id": "5Cdwq7eFxAiZ"
   },
   "outputs": [],
   "source": [
    "file = open('report.txt', 'r')\n",
    "# x=\"\"\n",
    "# for each in file:\n",
    "#     print(each)\n",
    "#     words=['Procedure','Time of Procedure']\n",
    "#     x=find_next(words,each)\n",
    "# print(x)"
   ]
  },
  {
   "cell_type": "markdown",
   "metadata": {
    "id": "qmBXVsaM5mki"
   },
   "source": [
    "**final info is a dictionary in which every information is stored with its corresponding key**"
   ]
  },
  {
   "cell_type": "code",
   "execution_count": null,
   "metadata": {
    "id": "4Wgxnun79eNt"
   },
   "outputs": [],
   "source": [
    "final_info={}"
   ]
  },
  {
   "cell_type": "markdown",
   "metadata": {
    "id": "qXQ8IywM5oAi"
   },
   "source": [
    "**add_result function has three different arguments**\n",
    "\n",
    "\n",
    "*   words- list of keywords to find.\n",
    "*   key- the name of key by which the information is stored.\n",
    "*   data- Whole text file in which keywords are searched and extracted\n",
    "\n",
    "\n",
    "\n"
   ]
  },
  {
   "cell_type": "code",
   "execution_count": null,
   "metadata": {
    "id": "7TOfBNIf9sjN"
   },
   "outputs": [],
   "source": [
    "def add_result(words,key,data):\n",
    "  text=find_next(words,data)\n",
    "  if(text):\n",
    "    final_info[key]=text.group(0)\n",
    "    return"
   ]
  },
  {
   "cell_type": "markdown",
   "metadata": {
    "id": "J_UFDmqA5s_z"
   },
   "source": [
    "## Adding every general paramater"
   ]
  },
  {
   "cell_type": "code",
   "execution_count": null,
   "metadata": {
    "id": "wn8QmO3vjzET"
   },
   "outputs": [],
   "source": []
  },
  {
   "cell_type": "code",
   "execution_count": null,
   "metadata": {
    "id": "09gEjUkU0VV1"
   },
   "outputs": [],
   "source": [
    "#Age\n",
    "add_result(['Age'],\"Age\",data)"
   ]
  },
  {
   "cell_type": "code",
   "execution_count": null,
   "metadata": {
    "id": "jI30Zd2i8LLk"
   },
   "outputs": [],
   "source": [
    "#Duration of Procedure\n",
    "add_result(['Time of Procedure','Duration of Procedure'],'Duration of Procedure',data)\n",
    "final_info"
   ]
  },
  {
   "cell_type": "code",
   "execution_count": null,
   "metadata": {
    "id": "LgHNLa0H8Spb"
   },
   "outputs": [],
   "source": [
    "#Procedure\n",
    "add_result(['Procedure Type'],'Procedure Type',data)\n",
    "final_info"
   ]
  },
  {
   "cell_type": "code",
   "execution_count": null,
   "metadata": {
    "id": "94uJ8Ho8Zaxz"
   },
   "outputs": [],
   "source": [
    "#Status Of Procedure\n",
    "add_result(['Status Of Procedure'],'Status Of Procedure',data)\n",
    "final_info"
   ]
  },
  {
   "cell_type": "code",
   "execution_count": null,
   "metadata": {
    "id": "UUudxfLiZibo"
   },
   "outputs": [],
   "source": [
    "#Procedure Approach\n",
    "add_result(['Procedure Approach'],'Procedure Approach',data)\n",
    "final_info"
   ]
  },
  {
   "cell_type": "code",
   "execution_count": null,
   "metadata": {
    "id": "tngJHROwidUg"
   },
   "outputs": [],
   "source": [
    "#Ischemic Heart Disease Type\n",
    "add_result(['Ischemic Heart Disease Type'],'Ischemic Heart Disease Type',data)\n",
    "final_info"
   ]
  },
  {
   "cell_type": "code",
   "execution_count": null,
   "metadata": {
    "id": "vPACBcrRZnBB"
   },
   "outputs": [],
   "source": [
    "#advise\n",
    "word='advise'\n",
    "x=re.search('(?<='+word.lower()+')'+'[\\r\\n]+([^\\r\\n]+)',data.lower())\n",
    "x"
   ]
  },
  {
   "cell_type": "code",
   "execution_count": null,
   "metadata": {
    "id": "BRbQgIy4ZnDV"
   },
   "outputs": [],
   "source": [
    "#comments\n",
    "word='Comments'\n",
    "x=re.search('(?<='+word.lower()+')'+'[\\r\\n]+([^\\r\\n]+)',data.lower())\n",
    "x"
   ]
  },
  {
   "cell_type": "code",
   "execution_count": null,
   "metadata": {
    "id": "d2Mlx057ZnGw"
   },
   "outputs": [],
   "source": [
    "def find_next2(words,data,key):\n",
    "    for word in words:\n",
    "        text=re.search('(?<='+word.lower()+': )(\\S*)',data.lower())\n",
    "        if(text):\n",
    "            final_info[key]=text.group(0)"
   ]
  },
  {
   "cell_type": "code",
   "execution_count": null,
   "metadata": {
    "id": "jpDUGp27Z26p"
   },
   "outputs": [],
   "source": [
    "find_next2(\"ACS\",data,\"ACS\")"
   ]
  },
  {
   "cell_type": "code",
   "execution_count": null,
   "metadata": {
    "id": "_yA8MSE6Z28s"
   },
   "outputs": [],
   "source": [
    "find_next2(\"PAMI\",data,\"PAMI\")"
   ]
  },
  {
   "cell_type": "code",
   "execution_count": null,
   "metadata": {
    "id": "R1ca3i2-Z2_9"
   },
   "outputs": [],
   "source": [
    "final_info"
   ]
  },
  {
   "cell_type": "code",
   "execution_count": null,
   "metadata": {
    "id": "KW6Rp_Pfr337"
   },
   "outputs": [],
   "source": [
    "def find_remarks(words,key,data):\n",
    "    for word in words:\n",
    "        text=re.search('(?<='+word.lower()+' :'+')'+'([^\\r\\n]+)',data.lower())\n",
    "        print(text)\n",
    "        if(text):\n",
    "            final_info[key]=text.group(0)\n",
    "\n",
    "find_remarks(['remarks','comments'],'Remarks',data)\n",
    "final_info"
   ]
  },
  {
   "cell_type": "code",
   "execution_count": null,
   "metadata": {
    "id": "Hf04BuHly6mB"
   },
   "outputs": [],
   "source": [
    "def find_advice(words,key,data):\n",
    "    for word in words:\n",
    "        text=re.search('(?<=Advice :)([\\r\\n])([^\\r\\n]+)',data)\n",
    "        text1=re.search('(?<=Advice)([\\r\\n])([^\\r\\n]+)',data)\n",
    "        #print(text)\n",
    "        if(text):\n",
    "            final_info[key]=text.group(0)\n",
    "        if(text1):\n",
    "            final_info[key]=text1.group(0)\n",
    "find_advice(['advice','advise'],'Advice',data)\n",
    "final_info"
   ]
  },
  {
   "cell_type": "code",
   "execution_count": null,
   "metadata": {
    "id": "-vhN3J89fBwf"
   },
   "outputs": [],
   "source": [
    "def name(word,key):\n",
    "  file=open('/content/report.txt','r')\n",
    "  Lines = file.readlines()\n",
    "  \n",
    "  count = 0\n",
    "  # Strips the newline character\n",
    "  for line in Lines:\n",
    "      # line=line.lower()\n",
    "      if word in line:\n",
    "          # word=word.lower()\n",
    "          x=re.findall(r\"[A-Z][a-z]+,?\\s+(?:[A-Z][a-z]*\\.?\\s*)?[A-Z][a-z]+\", line)\n",
    "          for j in x:\n",
    "            final_info[key]=j"
   ]
  },
  {
   "cell_type": "code",
   "execution_count": null,
   "metadata": {
    "id": "TyFaAaFEqcH9"
   },
   "outputs": [],
   "source": [
    "name(\"Patient\",\"Patient\")\n",
    "name(\"Primary Operator\",\"Doctor\")"
   ]
  },
  {
   "cell_type": "code",
   "execution_count": null,
   "metadata": {
    "colab": {
     "base_uri": "https://localhost:8080/"
    },
    "id": "0RL0TS4Tqk3Y",
    "outputId": "c2021083-4abc-490e-c1ab-fa53fe63a662"
   },
   "outputs": [
    {
     "data": {
      "text/plain": [
       "{'ACS': 'no',\n",
       " 'Advice': '\\nPTCA TO LAD & RCA',\n",
       " 'Age': '68',\n",
       " 'Doctor': 'Hasit Joshi',\n",
       " 'Duration of Procedure': '08:23',\n",
       " 'Ischemic Heart Disease Type': 'csa',\n",
       " 'PAMI': 'no',\n",
       " 'Patient': 'Lalchand Sughomal Lachhani',\n",
       " 'Procedure Approach': 'radial',\n",
       " 'Procedure Type': 'coronary',\n",
       " 'Remarks': ' right renal - 50% isr in stent, left renal- 60% stenosis',\n",
       " 'Status Of Procedure': 'elective'}"
      ]
     },
     "execution_count": null,
     "metadata": {},
     "output_type": "execute_result"
    }
   ],
   "source": [
    "final_info"
   ]
  },
  {
   "cell_type": "code",
   "execution_count": null,
   "metadata": {
    "colab": {
     "base_uri": "https://localhost:8080/"
    },
    "id": "04N5fPgDEZAl",
    "outputId": "68df4a5a-a603-43a7-fe7b-d31dd22feffd"
   },
   "outputs": [
    {
     "name": "stdout",
     "output_type": "stream",
     "text": [
      "{'Age': '68', 'Duration of Procedure': '08:23', 'Procedure Type': 'coronary', 'Status Of Procedure': 'elective', 'Procedure Approach': 'radial', 'Ischemic Heart Disease Type': 'csa', 'ACS': 'no', 'PAMI': 'no', 'Remarks': ' right renal - 50% isr in stent, left renal- 60% stenosis', 'Advice': '\\nPTCA TO LAD & RCA', 'Patient': 'Lalchand Sughomal Lachhani', 'Doctor': 'Hasit Joshi', 'Drug': 'unmicrc'}\n"
     ]
    }
   ],
   "source": [
    "import spacy\n",
    "\n",
    "med7 = spacy.load(\"en_core_med7_lg\")\n",
    "\n",
    "# create distinct colours for labels\n",
    "col_dict = {}\n",
    "seven_colours = ['#e6194B', '#3cb44b', '#ffe119', '#ffd8b1', '#f58231', '#f032e6', '#42d4f4']\n",
    "for label, colour in zip(med7.pipe_labels['ner'], seven_colours):\n",
    "    col_dict[label] = colour\n",
    "\n",
    "options = {'ents': med7.pipe_labels['ner'], 'colors':col_dict}\n",
    "\n",
    "file=open('/content/report.txt','r')\n",
    "Lines = file.readlines()\n",
    "\n",
    "for line in Lines:\n",
    "  doc = med7(line)\n",
    "  for ent in doc.ents:\n",
    "    if(ent.label_.lower()==\"drug\"):\n",
    "      final_info['Drug']=ent.text\n",
    "  # print([(ent.text, ent.label_) for ent in doc.ents])\n",
    "  # spacy.displacy.render(doc, style='ent', jupyter=True, options=options)\n",
    "  # [(ent.text, ent.label_) for ent in doc.ents]\n",
    "print(final_info)"
   ]
  },
  {
   "cell_type": "code",
   "execution_count": null,
   "metadata": {
    "colab": {
     "base_uri": "https://localhost:8080/"
    },
    "id": "3xPwJ6fa3PpC",
    "outputId": "cdf8301d-d6a7-49fa-c81c-bdc645d961b4"
   },
   "outputs": [
    {
     "name": "stdout",
     "output_type": "stream",
     "text": [
      "  Age Duration of Procedure Procedure Type Status Of Procedure  \\\n",
      "0  68                 08:23       coronary            elective   \n",
      "\n",
      "  Procedure Approach Ischemic Heart Disease Type ACS PAMI  \\\n",
      "0             radial                         csa  no   no   \n",
      "\n",
      "                                             Remarks               Advice  \\\n",
      "0   right renal - 50% isr in stent, left renal- 6...  \\nPTCA TO LAD & RCA   \n",
      "\n",
      "                      Patient       Doctor     Drug  \n",
      "0  Lalchand Sughomal Lachhani  Hasit Joshi  unmicrc  \n"
     ]
    }
   ],
   "source": [
    "import pandas as pd\n",
    "df=pd.DataFrame(data=final_info,index=[0])\n",
    "print (df)\n",
    "df.to_excel('dict1.xlsx')"
   ]
  },
  {
   "cell_type": "code",
   "execution_count": null,
   "metadata": {
    "id": "NlW7LQhhqmKu"
   },
   "outputs": [],
   "source": [
    "# Comments\n",
    "# - Type Of Procedure : Multi Vessel Angioplasty\n",
    "# - Lesion Summary : Lesions Attempted-1 , Lesions Stented-1 , Stent Used-1 , Lesions Successfully Dilated-1\n",
    "# Final Diagnosis\n",
    "# - Procedure Result : Successful PTCA to LAD done\n",
    "# Advise\n",
    "# -Regular Follow-up & Medicine : Staged PTCA to RCA"
   ]
  },
  {
   "cell_type": "markdown",
   "metadata": {
    "id": "LPteSB_V5y8B"
   },
   "source": [
    "# EXTRACTING FROM SPEECH/AUDIO FILES"
   ]
  },
  {
   "cell_type": "code",
   "execution_count": null,
   "metadata": {
    "colab": {
     "base_uri": "https://localhost:8080/"
    },
    "id": "Ja6nc6YBQwnz",
    "outputId": "39dc59b8-33e1-4405-ac1c-63f9ab363099"
   },
   "outputs": [
    {
     "name": "stdout",
     "output_type": "stream",
     "text": [
      "Converting Audio to TEXT....\n",
      "the patient is a 49 year old white female establish Vista Dermatology lasting office on the 8th of 10th 2004 she comes in today for revitalization of acne plus she has it was a rush for the past two months now and I trashed stomach neck and back on examination\n"
     ]
    }
   ],
   "source": [
    "#Speech to text \n",
    "#import libraries\n",
    "\n",
    "import speech_recognition as sr\n",
    "r = sr.Recognizer()\n",
    "with sr.AudioFile('/content/VOXTAB_Medical_audio.wav') as source:\n",
    "    audio_text = r.listen(source)\n",
    "    try:\n",
    "        text = r.recognize_google(audio_text)\n",
    "        print('Converting Audio to TEXT....')\n",
    "        print(text)\n",
    "    except:\n",
    "         print('Run again, API Error !')"
   ]
  },
  {
   "cell_type": "code",
   "execution_count": null,
   "metadata": {
    "id": "UlXPdGmOuCzJ"
   },
   "outputs": [],
   "source": [
    "import speech_recognition as sr \n",
    "import os \n",
    "from pydub import AudioSegment\n",
    "from pydub.silence import split_on_silence\n",
    "\n",
    "\n",
    "r = sr.Recognizer()\n",
    "\n",
    "def get_large_audio_transcription(path):\n",
    "    \"\"\"\n",
    "    Splitting the large audio file into chunks\n",
    "    and apply speech recognition on each of these chunks\n",
    "    \"\"\"\n",
    "    sound = AudioSegment.from_wav(path)  \n",
    "    chunks = split_on_silence(sound,\n",
    "        min_silence_len = 500,\n",
    "        silence_thresh = sound.dBFS-14,\n",
    "\n",
    "        keep_silence=500,\n",
    "    )\n",
    "    folder_name = \"audio-chunks\"\n",
    "    if not os.path.isdir(folder_name):\n",
    "        os.mkdir(folder_name)\n",
    "    whole_text = \"\"\n",
    "    for i, audio_chunk in enumerate(chunks, start=1):\n",
    "        chunk_filename = os.path.join(folder_name, f\"chunk{i}.wav\")\n",
    "        audio_chunk.export(chunk_filename, format=\"wav\")\n",
    "        with sr.AudioFile(chunk_filename) as source:\n",
    "            audio_listened = r.record(source)\n",
    "            try:\n",
    "                text = r.recognize_google(audio_listened)\n",
    "            except sr.UnknownValueError as e:\n",
    "                print(\"Error:\", str(e))\n",
    "            else:\n",
    "                text = f\"{text.capitalize()}. \"\n",
    "                print(chunk_filename, \":\", text)\n",
    "                whole_text += text\n",
    "    return whole_text"
   ]
  },
  {
   "cell_type": "code",
   "execution_count": null,
   "metadata": {
    "id": "shhuLylINLcV"
   },
   "outputs": [],
   "source": [
    "from google.colab import drive\n",
    "drive.mount('/content/drive')"
   ]
  },
  {
   "cell_type": "code",
   "execution_count": null,
   "metadata": {
    "colab": {
     "base_uri": "https://localhost:8080/"
    },
    "id": "9MTdW2u3wOe3",
    "outputId": "2b2f8e1a-605e-419a-c338-c180394c82e7"
   },
   "outputs": [
    {
     "name": "stdout",
     "output_type": "stream",
     "text": [
      "audio-chunks/chunk1.wav : Hi this is doctor helen white. \n",
      "audio-chunks/chunk2.wav : Today's the 16th of june. \n",
      "audio-chunks/chunk3.wav : I'm doing a referral after please. \n",
      "audio-chunks/chunk4.wav : All reference h.w. / ca. \n",
      "audio-chunks/chunk5.wav : He could date today's date. \n",
      "audio-chunks/chunk6.wav : Pocket private confidential full mister jason. \n",
      "audio-chunks/chunk7.wav : Spring consultant orthopedic surgeon. \n",
      "audio-chunks/chunk8.wav : Whiskey hospital davis teespring. \n",
      "audio-chunks/chunk9.wav : Ari. \n",
      "audio-chunks/chunk10.wav : Thomas jones date of birth. \n",
      "audio-chunks/chunk11.wav : 22nd of june 1972 address one the house to the road. \n",
      "audio-chunks/chunk12.wav : Liverpool l13 pa. \n",
      "audio-chunks/chunk13.wav : Telephone number. \n",
      "audio-chunks/chunk14.wav : Oh 77421 932 18. \n",
      "audio-chunks/chunk15.wav : So you could see this 38 year old gentleman. \n",
      "audio-chunks/chunk16.wav : Mr. jones is a nice young gentleman who tell it be since buying tight footwear has suffered from left medial foot arch pain. \n",
      "audio-chunks/chunk17.wav : Zane is infiltration system. \n",
      "audio-chunks/chunk18.wav : I need some food from tuesday or thursday. \n",
      "audio-chunks/chunk19.wav : . he finds it the pain gets worse after he receives his exercise regime.. \n",
      "audio-chunks/chunk20.wav : All examinations new baby tendinous he's somewhat 10 to over the midpoint of his middle media arts. \n",
      "audio-chunks/chunk21.wav : Play left foot. you parrot. \n",
      "audio-chunks/chunk22.wav : I want your sister's unresolved spotify. \n",
      "audio-chunks/chunk23.wav : What he would benefit from steroid injection. \n",
      "audio-chunks/chunk24.wav : I would be grateful for your expert opinion thank you very much staying in yours and say i like. \n"
     ]
    }
   ],
   "source": [
    "text=get_large_audio_transcription('/content/JonesMedical.wav')"
   ]
  },
  {
   "cell_type": "code",
   "execution_count": null,
   "metadata": {
    "colab": {
     "base_uri": "https://localhost:8080/",
     "height": 191
    },
    "id": "2NpYLcbfx7k8",
    "outputId": "37a261af-e4e2-4021-cbf8-a4c63bbb15ce"
   },
   "outputs": [
    {
     "data": {
      "application/vnd.google.colaboratory.intrinsic+json": {
       "type": "string"
      },
      "text/plain": [
       "\"Hi this is doctor helen white. Today's the 16th of june. I'm doing a referral after please. All reference h.w. / ca. He could date today's date. Pocket private confidential full mister jason. Spring consultant orthopedic surgeon. Whiskey hospital davis teespring. Ari. Thomas jones date of birth. 22nd of june 1972 address one the house to the road. Liverpool l13 pa. Telephone number. Oh 77421 932 18. So you could see this 38 year old gentleman. Mr. jones is a nice young gentleman who tell it be since buying tight footwear has suffered from left medial foot arch pain. Zane is infiltration system. I need some food from tuesday or thursday. . he finds it the pain gets worse after he receives his exercise regime.. All examinations new baby tendinous he's somewhat 10 to over the midpoint of his middle media arts. Play left foot. you parrot. I want your sister's unresolved spotify. What he would benefit from steroid injection. I would be grateful for your expert opinion thank you very much staying in yours and say i like. \""
      ]
     },
     "execution_count": 62,
     "metadata": {},
     "output_type": "execute_result"
    }
   ],
   "source": [
    "text"
   ]
  },
  {
   "cell_type": "code",
   "execution_count": null,
   "metadata": {
    "colab": {
     "base_uri": "https://localhost:8080/"
    },
    "id": "ikd-Q9u6wa6B",
    "outputId": "dd069fb2-2931-48b8-c0d7-8e55da878f37"
   },
   "outputs": [
    {
     "name": "stdout",
     "output_type": "stream",
     "text": [
      "hi this is Doctor Helen White today's the 16th of June I'm doing a referral lots of please all reference HW / CA you could dated today's date private confidential for mr. Jason spring consultant Orthopaedic surgeon whiskey Hospital Thomas Jones\n"
     ]
    }
   ],
   "source": [
    "# inp = sr.AudioFile('/content/JonesMedical.wav')\n",
    "# with inp as file:\n",
    "#   audio = r.record(file)\n",
    "#   print(r.recognize_google(audio))\n",
    "#   # print(audio)"
   ]
  },
  {
   "cell_type": "code",
   "execution_count": null,
   "metadata": {
    "colab": {
     "base_uri": "https://localhost:8080/"
    },
    "id": "GX3v89oAxCyi",
    "outputId": "b6ae9dff-26d6-4c22-b52e-8f9f5bbf0929"
   },
   "outputs": [
    {
     "name": "stdout",
     "output_type": "stream",
     "text": [
      "Hi this is doctor helen white.\n",
      "Today's the 16th of june.\n",
      "I'm doing a referral after please.\n",
      "All reference h.w.\n",
      "/ ca.\n",
      "He could date today's date.\n",
      "Pocket private confidential full mister jason.\n",
      "Spring consultant orthopedic surgeon.\n",
      "Whiskey hospital davis teespring.\n",
      "Ari.\n",
      "Thomas jones date of birth.\n",
      "22nd of june 1972 address one the house to the road.\n",
      "Liverpool l13 pa. Telephone number.\n",
      "Oh 77421 932 18.\n",
      "So you could see this 38 year old gentleman.\n",
      "Mr. jones is a nice young gentleman who tell it be since buying tight footwear has suffered from left medial foot arch pain.\n",
      "Zane is infiltration system.\n",
      "I need some food from tuesday or thursday.\n",
      ".\n",
      "he finds it the pain gets worse after he receives his exercise regime.. All examinations new baby tendinous he's somewhat 10 to over the midpoint of his middle media arts.\n",
      "Play left foot.\n",
      "you parrot.\n",
      "I want your sister's unresolved spotify.\n",
      "What he would benefit from steroid injection.\n",
      "I would be grateful for your expert opinion thank you very much staying in yours and say i like.\n"
     ]
    }
   ],
   "source": [
    "from nameparser import HumanName\n",
    "# for line in text:\n",
    "#   print(line)\n",
    "text_sent=sent_tokenize(text)\n",
    "# name=\"\"\n",
    "for sent in text_sent:\n",
    "  name=HumanName(sent)\n",
    "  print(name)"
   ]
  },
  {
   "cell_type": "code",
   "execution_count": null,
   "metadata": {
    "colab": {
     "base_uri": "https://localhost:8080/"
    },
    "id": "NSQVGYJvz9Vp",
    "outputId": "25b12f00-73c8-4ce9-f707-1e175356516d"
   },
   "outputs": [
    {
     "name": "stdout",
     "output_type": "stream",
     "text": [
      "Hi this is doctor helen white.\n",
      "\n",
      " Today's the 16th of june.\n",
      "\n",
      " I'm doing a referral after please.\n",
      "\n",
      " He could date today's date.\n",
      "\n",
      " Pocket private confidential full mister jason.\n",
      "\n",
      " Thomas jones date of birth.\n",
      "\n",
      " 22nd of june 1972 address one the house to the road.\n",
      "\n",
      " So you could see this 38 year old gentleman.\n",
      "\n",
      " jones is a nice young gentleman who tell it be since buying tight footwear has suffered from left medial foot arch pain.\n",
      "\n",
      " I need some food from tuesday or thursday.\n",
      "\n"
     ]
    }
   ],
   "source": [
    "from pysummarization.nlpbase.auto_abstractor import AutoAbstractor\n",
    "from pysummarization.tokenizabledoc.simple_tokenizer import SimpleTokenizer\n",
    "from pysummarization.abstractabledoc.top_n_rank_abstractor import TopNRankAbstractor\n",
    "auto_abstractor = AutoAbstractor()\n",
    "auto_abstractor.tokenizable_doc = SimpleTokenizer()\n",
    "auto_abstractor.delimiter_list = [\".\", \"\\n\"]\n",
    "abstractable_doc = TopNRankAbstractor()\n",
    "result_dict = auto_abstractor.summarize(text, abstractable_doc)\n",
    "for sentence in result_dict[\"summarize_result\"]:\n",
    "    print(sentence)"
   ]
  }
 ],
 "metadata": {
  "accelerator": "GPU",
  "colab": {
   "collapsed_sections": [],
   "name": "Healthcare.ipynb",
   "provenance": []
  },
  "kernelspec": {
   "display_name": "Python 3 (ipykernel)",
   "language": "python",
   "name": "python3"
  },
  "language_info": {
   "codemirror_mode": {
    "name": "ipython",
    "version": 3
   },
   "file_extension": ".py",
   "mimetype": "text/x-python",
   "name": "python",
   "nbconvert_exporter": "python",
   "pygments_lexer": "ipython3",
   "version": "3.12.7"
  }
 },
 "nbformat": 4,
 "nbformat_minor": 4
}
